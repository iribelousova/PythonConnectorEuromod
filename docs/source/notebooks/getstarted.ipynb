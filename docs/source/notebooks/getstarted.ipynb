{
 "cells": [
  {
   "cell_type": "markdown",
   "metadata": {},
   "source": [
    "# User Guide\n",
    "\n",
    "The Euromod Conector is a Python library providing tools for running simulations and interacting with the tax-benefit microsimulation model [EUROMOD](https://euromod-web.jrc.ec.europa.eu \"https://euromod-web.jrc.ec.europa.eu\"). \n",
    "\n",
    "## Installation\n",
    "The Euromod Connector can be installed from [PyPi](https://test.pypi.org/project/euromod/)  using _pip_:\n",
    "```bash\n",
    "$ pip install euromod\n",
    "```\n",
    "\n",
    "### Requirements\n",
    "In order to run the model, we require two components: 1) the model (coded policy rules), and 2) the input microdata with the variables that respect the EUROMOD naming conventions.\n",
    "For more information, please, read the sections \"Model\" and \"Input microdata\" on the [Download Euromod](https://euromod-web.jrc.ec.europa.eu/download-euromod \"https://euromod-web.jrc.ec.europa.eu/download-euromod\") web page.\n",
    "\n",
    "## Running and navigating the model\n",
    "The euromod package is object oriented and evolves around using the `Model` class that loads a representation of the EUROMOD model. Creating a euromod object works as follows"
   ]
  },
  {
   "cell_type": "code",
   "execution_count": 1,
   "metadata": {},
   "outputs": [],
   "source": [
    "from euromod import Model"
   ]
  },
  {
   "cell_type": "markdown",
   "metadata": {},
   "source": [
    "Create an object of the `core.Model` class by passing  the path to the  EUROMOD project: "
   ]
  },
  {
   "cell_type": "code",
   "execution_count": 2,
   "metadata": {
    "editable": true,
    "slideshow": {
     "slide_type": ""
    },
    "tags": []
   },
   "outputs": [
    {
     "data": {
      "text/plain": [
       "------------------------------\n",
       "Model\n",
       "------------------------------\n",
       "\t countries: 28 elements\n",
       "\t extensions: 11 elements\n",
       "\t model_path: 'C:\\\\EUROMOD_RELEASES_I6.0+'"
      ]
     },
     "execution_count": 2,
     "metadata": {},
     "output_type": "execute_result"
    }
   ],
   "source": [
    "mod=Model(r\"C:\\EUROMOD_RELEASES_I6.0+\")\n",
    "mod"
   ]
  },
  {
   "cell_type": "markdown",
   "metadata": {},
   "source": [
    "Note that every object that is related to the EUROMOD project comes with an informative description. Here we can see that the model has 3 relevant attributes to the user:\n",
    "- countries\n",
    "- extensions\n",
    "- model_path\n",
    "  \n",
    "The countries and extensions attributes say that they contain elements. If we take a look at countries"
   ]
  },
  {
   "cell_type": "markdown",
   "metadata": {},
   "source": [
    "mod.countriesies"
   ]
  },
  {
   "cell_type": "markdown",
   "metadata": {},
   "source": [
    "The `Model.countries` attirbute is a container storing the `core.Country` objects which nest the country-specific tax-benefit policies and systems.\n",
    "\n",
    "Displays the EUROMOD default countries:"
   ]
  },
  {
   "cell_type": "code",
   "execution_count": 3,
   "metadata": {},
   "outputs": [
    {
     "data": {
      "text/plain": [
       "0: AT \n",
       "1: BE \n",
       "2: BG \n",
       "3: CY \n",
       "4: CZ \n",
       "5: DE \n",
       "6: DK \n",
       "7: EE \n",
       "8: EL \n",
       "9: ES \n",
       "10: FI\n",
       "11: FR\n",
       "12: HR\n",
       "13: HU\n",
       "14: IE\n",
       "15: IT\n",
       "16: LT\n",
       "17: LU\n",
       "18: LV\n",
       "19: MT\n",
       "20: NL\n",
       "21: PL\n",
       "22: PT\n",
       "23: RO\n",
       "24: SE\n",
       "25: SI\n",
       "26: SK\n",
       "27: SL"
      ]
     },
     "execution_count": 3,
     "metadata": {},
     "output_type": "execute_result"
    }
   ],
   "source": [
    "mod.countries"
   ]
  },
  {
   "cell_type": "markdown",
   "metadata": {},
   "source": [
    "Displaying a specific country model, e.g. Simpleland, using the two-letters country code index:"
   ]
  },
  {
   "cell_type": "markdown",
   "metadata": {},
   "source": [
    "We see indeed that the euromod model contains 28 countries. In a similar fashion we could have looked what kind of extensions that are stored in the model. The countries container can be indexed by both the number of the element and the country shortcode. Let us take a look at Sweden."
   ]
  },
  {
   "cell_type": "code",
   "execution_count": 4,
   "metadata": {},
   "outputs": [
    {
     "data": {
      "text/plain": [
       "------------------------------\n",
       "Country\n",
       "------------------------------\n",
       "\t datasets: 27 elements\n",
       "\t extensions: 12 elements\n",
       "\t local_extensions: COVID\n",
       "\t name: 'SE'\n",
       "\t policies: 26 elements\n",
       "\t systems: 18 elements"
      ]
     },
     "execution_count": 4,
     "metadata": {},
     "output_type": "execute_result"
    }
   ],
   "source": [
    "mod.countries[\"SE\"]"
   ]
  },
  {
   "cell_type": "markdown",
   "metadata": {},
   "source": [
    "Here we see again an informative representation of the `Country` object, which contains several attributes that can be accessed. In order to simulate a system we run a specific `System`. We can obtain the system `Container` of the `Country` Sweden"
   ]
  },
  {
   "cell_type": "code",
   "execution_count": 5,
   "metadata": {},
   "outputs": [
    {
     "data": {
      "text/plain": [
       "0: SE_2006 \n",
       "1: SE_2007 \n",
       "2: SE_2008 \n",
       "3: SE_2009 \n",
       "4: SE_2010 \n",
       "5: SE_2011 \n",
       "6: SE_2012 \n",
       "7: SE_2013 \n",
       "8: SE_2014 \n",
       "9: SE_2015 \n",
       "10: SE_2016\n",
       "11: SE_2017\n",
       "12: SE_2018\n",
       "13: SE_2019\n",
       "14: SE_2020\n",
       "15: SE_2021\n",
       "16: SE_2022\n",
       "17: SE_2023"
      ]
     },
     "execution_count": 5,
     "metadata": {},
     "output_type": "execute_result"
    }
   ],
   "source": [
    "mod.countries[\"SE\"].systems"
   ]
  },
  {
   "cell_type": "markdown",
   "metadata": {},
   "source": [
    "### Running a simulation\n",
    "\n",
    "In order to run the tax system we need a dataset that fits the requirement to use.In case you already know which dataset you want to use one can simply load the data and run the model as follows:."
   ]
  },
  {
   "cell_type": "code",
   "execution_count": 6,
   "metadata": {
    "editable": true,
    "slideshow": {
     "slide_type": ""
    },
    "tags": []
   },
   "outputs": [
    {
     "name": "stdout",
     "output_type": "stream",
     "text": [
      "Simulation for system SE_2021 with dataset SE_2021_b1 finished.\n"
     ]
    },
    {
     "data": {
      "text/plain": [
       "------------------------------\n",
       "Simulation\n",
       "------------------------------\n",
       "\t constantsToOverwrite: {}\n",
       "\t errors: []\n",
       "\t output_filenames: ['se_2021_std.txt']\n",
       "\t outputs: Pandas DataFrame of 240 variables and 21671 observations."
      ]
     },
     "execution_count": 6,
     "metadata": {},
     "output_type": "execute_result"
    }
   ],
   "source": [
    "import pandas as pd\n",
    "data=pd.read_csv(r\"C:\\EUROMOD_RELEASES_I6.0+\\Input\\SE_2021_b1.txt\",sep=\"\\t\")\n",
    "out_baseline = mod.countries[\"SE\"].systems[\"SE_2021\"].run(data,\"SE_2021_b1\")\n",
    "out_baseline"
   ]
  },
  {
   "cell_type": "code",
   "execution_count": 7,
   "metadata": {
    "editable": true,
    "slideshow": {
     "slide_type": ""
    },
    "tags": [
     "remove-input"
    ]
   },
   "outputs": [],
   "source": [
    "pd.set_option('display.max_rows', 11, 'display.max_columns',7)"
   ]
  },
  {
   "cell_type": "markdown",
   "metadata": {},
   "source": [
    "Note that the run function here takes the mandatory argument `dataset_id`, which in our case is here SE_2022_b1. This is necessary such that EUROMOD can apply the dataset specific logic with respect to setting default values and uprating. This returned us a Simulation object with multiple attributes returned. The one of interest here is outputs, which contains the outputdataset(s) returned by the microsimulation model."
   ]
  },
  {
   "cell_type": "code",
   "execution_count": 8,
   "metadata": {},
   "outputs": [
    {
     "data": {
      "text/html": [
       "<div>\n",
       "<style scoped>\n",
       "    .dataframe tbody tr th:only-of-type {\n",
       "        vertical-align: middle;\n",
       "    }\n",
       "\n",
       "    .dataframe tbody tr th {\n",
       "        vertical-align: top;\n",
       "    }\n",
       "\n",
       "    .dataframe thead th {\n",
       "        text-align: right;\n",
       "    }\n",
       "</style>\n",
       "<table border=\"1\" class=\"dataframe\">\n",
       "  <thead>\n",
       "    <tr style=\"text-align: right;\">\n",
       "      <th></th>\n",
       "      <th>idhh</th>\n",
       "      <th>idperson</th>\n",
       "      <th>idmother</th>\n",
       "      <th>...</th>\n",
       "      <th>tu_bho_se_IsDependentChild</th>\n",
       "      <th>tu_bho_se_IsLoneParent</th>\n",
       "      <th>tu_bho_se_IsPartner</th>\n",
       "    </tr>\n",
       "  </thead>\n",
       "  <tbody>\n",
       "    <tr>\n",
       "      <th>0</th>\n",
       "      <td>200.0</td>\n",
       "      <td>20001.0</td>\n",
       "      <td>0.0</td>\n",
       "      <td>...</td>\n",
       "      <td>0.0</td>\n",
       "      <td>0.0</td>\n",
       "      <td>0.0</td>\n",
       "    </tr>\n",
       "    <tr>\n",
       "      <th>1</th>\n",
       "      <td>300.0</td>\n",
       "      <td>30001.0</td>\n",
       "      <td>0.0</td>\n",
       "      <td>...</td>\n",
       "      <td>0.0</td>\n",
       "      <td>0.0</td>\n",
       "      <td>0.0</td>\n",
       "    </tr>\n",
       "    <tr>\n",
       "      <th>2</th>\n",
       "      <td>300.0</td>\n",
       "      <td>30002.0</td>\n",
       "      <td>0.0</td>\n",
       "      <td>...</td>\n",
       "      <td>0.0</td>\n",
       "      <td>0.0</td>\n",
       "      <td>1.0</td>\n",
       "    </tr>\n",
       "    <tr>\n",
       "      <th>3</th>\n",
       "      <td>500.0</td>\n",
       "      <td>50001.0</td>\n",
       "      <td>0.0</td>\n",
       "      <td>...</td>\n",
       "      <td>0.0</td>\n",
       "      <td>0.0</td>\n",
       "      <td>0.0</td>\n",
       "    </tr>\n",
       "    <tr>\n",
       "      <th>4</th>\n",
       "      <td>500.0</td>\n",
       "      <td>50002.0</td>\n",
       "      <td>0.0</td>\n",
       "      <td>...</td>\n",
       "      <td>0.0</td>\n",
       "      <td>0.0</td>\n",
       "      <td>1.0</td>\n",
       "    </tr>\n",
       "    <tr>\n",
       "      <th>...</th>\n",
       "      <td>...</td>\n",
       "      <td>...</td>\n",
       "      <td>...</td>\n",
       "      <td>...</td>\n",
       "      <td>...</td>\n",
       "      <td>...</td>\n",
       "      <td>...</td>\n",
       "    </tr>\n",
       "    <tr>\n",
       "      <th>21666</th>\n",
       "      <td>1936500.0</td>\n",
       "      <td>193650002.0</td>\n",
       "      <td>0.0</td>\n",
       "      <td>...</td>\n",
       "      <td>0.0</td>\n",
       "      <td>0.0</td>\n",
       "      <td>1.0</td>\n",
       "    </tr>\n",
       "    <tr>\n",
       "      <th>21667</th>\n",
       "      <td>1936800.0</td>\n",
       "      <td>193680001.0</td>\n",
       "      <td>0.0</td>\n",
       "      <td>...</td>\n",
       "      <td>0.0</td>\n",
       "      <td>0.0</td>\n",
       "      <td>1.0</td>\n",
       "    </tr>\n",
       "    <tr>\n",
       "      <th>21668</th>\n",
       "      <td>1936800.0</td>\n",
       "      <td>193680002.0</td>\n",
       "      <td>0.0</td>\n",
       "      <td>...</td>\n",
       "      <td>0.0</td>\n",
       "      <td>0.0</td>\n",
       "      <td>0.0</td>\n",
       "    </tr>\n",
       "    <tr>\n",
       "      <th>21669</th>\n",
       "      <td>1936800.0</td>\n",
       "      <td>193680003.0</td>\n",
       "      <td>193680002.0</td>\n",
       "      <td>...</td>\n",
       "      <td>1.0</td>\n",
       "      <td>0.0</td>\n",
       "      <td>0.0</td>\n",
       "    </tr>\n",
       "    <tr>\n",
       "      <th>21670</th>\n",
       "      <td>1936800.0</td>\n",
       "      <td>193680004.0</td>\n",
       "      <td>193680002.0</td>\n",
       "      <td>...</td>\n",
       "      <td>1.0</td>\n",
       "      <td>0.0</td>\n",
       "      <td>0.0</td>\n",
       "    </tr>\n",
       "  </tbody>\n",
       "</table>\n",
       "<p>21671 rows × 240 columns</p>\n",
       "</div>"
      ],
      "text/plain": [
       "            idhh     idperson     idmother  ...  tu_bho_se_IsDependentChild  \\\n",
       "0          200.0      20001.0          0.0  ...                         0.0   \n",
       "1          300.0      30001.0          0.0  ...                         0.0   \n",
       "2          300.0      30002.0          0.0  ...                         0.0   \n",
       "3          500.0      50001.0          0.0  ...                         0.0   \n",
       "4          500.0      50002.0          0.0  ...                         0.0   \n",
       "...          ...          ...          ...  ...                         ...   \n",
       "21666  1936500.0  193650002.0          0.0  ...                         0.0   \n",
       "21667  1936800.0  193680001.0          0.0  ...                         0.0   \n",
       "21668  1936800.0  193680002.0          0.0  ...                         0.0   \n",
       "21669  1936800.0  193680003.0  193680002.0  ...                         1.0   \n",
       "21670  1936800.0  193680004.0  193680002.0  ...                         1.0   \n",
       "\n",
       "       tu_bho_se_IsLoneParent  tu_bho_se_IsPartner  \n",
       "0                         0.0                  0.0  \n",
       "1                         0.0                  0.0  \n",
       "2                         0.0                  1.0  \n",
       "3                         0.0                  0.0  \n",
       "4                         0.0                  1.0  \n",
       "...                       ...                  ...  \n",
       "21666                     0.0                  1.0  \n",
       "21667                     0.0                  1.0  \n",
       "21668                     0.0                  0.0  \n",
       "21669                     0.0                  0.0  \n",
       "21670                     0.0                  0.0  \n",
       "\n",
       "[21671 rows x 240 columns]"
      ]
     },
     "execution_count": 8,
     "metadata": {},
     "output_type": "execute_result"
    }
   ],
   "source": [
    "out_baseline.outputs[0]"
   ]
  },
  {
   "cell_type": "markdown",
   "metadata": {},
   "source": [
    "### Navigating the model\n",
    "The `Model` object actually contains a full representation of the model that can be accessed using it's attributes.  The implementation in Python mimicks the hierarchical structure of the EUROMOD User Interface. A full description of the available types can be found in the API reference.\n",
    "#### The spine\n",
    "The spine of EUROMOD is what represents the series of calculations with respect taxes and benefits.\n",
    "The spine consists out of three hierarchically ordered elements:\n",
    "- Policy\n",
    "    - Function\n",
    "        - Parameter\n",
    "     \n",
    "The connector mimmicks this hierarchical implementation through an object-oriented representation. The three hierarchical elements are defined on the `Country` level and implemented on the `System` level.\n",
    "\n",
    "Let us take a look at the policies, which are an attribute of the `Country` object."
   ]
  },
  {
   "cell_type": "code",
   "execution_count": 9,
   "metadata": {},
   "outputs": [
    {
     "data": {
      "text/plain": [
       "0: setdefault_se         |                                   |    DEF: SET DEFAULT \n",
       "1: uprate_se             |                                   |    DEF: UPRATING FACTORS \n",
       "2: ConstDef_se           |                                   |    DEF: CONSTANTS \n",
       "3: IlsDef_se             |                                   |    DEF: INCOME CONCEPTS (standardized) \n",
       "4: IlsUDBdef_se          |                                   |    DEF: INCOME CONCEPTS (UDB) \n",
       "5: ildef_se              |                                   |    DEF: INCOME CONCEPTS (non-standardized) \n",
       "6: random_se             |                                   |    DEF: Random assignment \n",
       "7: TransLMA_se           |                                   |    DEF: Modelling labour market transitions (DO NOT S ... \n",
       "8: tudef_se              |                                   |    DEF: ASSESSMENT UNITS \n",
       "9: yem_se                |  (with switch set for MWA)        |    DEF: minimum wage \n",
       "10: neg_se               |                                   |    DEF: recode negative self-employment income to zer ... \n",
       "11: yemcomp_se           |                                   |    BEN: wage compensation scheme COVID-19  (ONLY WORK ... \n",
       "12: bunct_se             |                                   |    BEN: unemployment benefit (contributory) \n",
       "13: bfapl_se             |  (with switch set for PBE)        |    BEN: Parental leave benefit  \n",
       "14: bpa_se               |  (with switch set for PBE)        |    BEN: Special leave days other parent (10 days) \n",
       "15: tscee_se             |                                   |    SIC: Employee Social Insurance contribution \n",
       "16: tscer_se             |                                   |    SIC: Employer Social Insurance contribution \n",
       "17: tscse_se             |                                   |    SIC: Self-employed Social Insurance contribution \n",
       "18: tin_se               |                                   |    TAX: Personal Income tax \n",
       "19: tinkt_se             |                                   |    TAX: Tax on Capital Income \n",
       "20: bch_se               |                                   |    BEN: Child benefit \n",
       "21: bho_se               |                                   |    BEN: Housing allowance \n",
       "22: bhope_se             |                                   |    BEN: Housing allowance for pensioners \n",
       "23: bsamt_se             |                                   |    BEN: Social Assistance (means-tested) \n",
       "24: output_std_se        |                                   |    DEF: STANDARD OUTPUT INDIVIDUAL LEVEL \n",
       "25: output_std_hh_se     |                                   |    DEF: STANDARD OUTPUT HOUSEHOLD LEVEL "
      ]
     },
     "execution_count": 9,
     "metadata": {},
     "output_type": "execute_result"
    }
   ],
   "source": [
    "mod.countries[\"SE\"].policies"
   ]
  },
  {
   "cell_type": "markdown",
   "metadata": {},
   "source": [
    "As one can see the `policies` attribute is a Container object here, and it's elements which are of the type `Policy` here are accessible."
   ]
  },
  {
   "cell_type": "code",
   "execution_count": 10,
   "metadata": {},
   "outputs": [
    {
     "data": {
      "text/plain": [
       "------------------------------\n",
       "Policy\n",
       "------------------------------\n",
       "\t ID: '22DDB39D-1393-4196-AC79-23825D0D6DF2'\n",
       "\t comment: 'BEN: Housing allowance for pensioners'\n",
       "\t extensions: 0 elements\n",
       "\t functions: 19 elements\n",
       "\t name: 'bhope_se'\n",
       "\t order: '23'\n",
       "\t private: 'no'\n",
       "\t spineOrder: '23'"
      ]
     },
     "execution_count": 10,
     "metadata": {},
     "output_type": "execute_result"
    }
   ],
   "source": [
    "mod.countries[\"SE\"].policies[22]"
   ]
  },
  {
   "cell_type": "markdown",
   "metadata": {},
   "source": [
    "The implementation of a policy is accessible through the `System` object."
   ]
  },
  {
   "cell_type": "code",
   "execution_count": 11,
   "metadata": {},
   "outputs": [
    {
     "data": {
      "text/plain": [
       "0: setdefault_se         | on                                   |    DEF: SET DEFAULT \n",
       "1: uprate_se             | on                                   |    DEF: UPRATING FACTORS \n",
       "2: ConstDef_se           | on                                   |    DEF: CONSTANTS \n",
       "3: IlsDef_se             | on                                   |    DEF: INCOME CONCEPTS (standardized) \n",
       "4: IlsUDBdef_se          | on                                   |    DEF: INCOME CONCEPTS (UDB) \n",
       "5: ildef_se              | on                                   |    DEF: INCOME CONCEPTS (non-standardized) \n",
       "6: random_se             | on                                   |    DEF: Random assignment \n",
       "7: TransLMA_se           | off                                  |    DEF: Modelling labour market transitions (DO NOT S ... \n",
       "8: tudef_se              | on                                   |    DEF: ASSESSMENT UNITS \n",
       "9: yem_se                | off (with switch set for MWA)        |    DEF: minimum wage \n",
       "10: neg_se               | on                                   |    DEF: recode negative self-employment income to zer ... \n",
       "11: yemcomp_se           | on                                   |    BEN: wage compensation scheme COVID-19  (ONLY WORK ... \n",
       "12: bunct_se             | off                                  |    BEN: unemployment benefit (contributory) \n",
       "13: bfapl_se             | off (with switch set for PBE)        |    BEN: Parental leave benefit  \n",
       "14: bpa_se               | off (with switch set for PBE)        |    BEN: Special leave days other parent (10 days) \n",
       "15: tscee_se             | on                                   |    SIC: Employee Social Insurance contribution \n",
       "16: tscer_se             | on                                   |    SIC: Employer Social Insurance contribution \n",
       "17: tscse_se             | on                                   |    SIC: Self-employed Social Insurance contribution \n",
       "18: tin_se               | on                                   |    TAX: Personal Income tax \n",
       "19: tinkt_se             | on                                   |    TAX: Tax on Capital Income \n",
       "20: bch_se               | on                                   |    BEN: Child benefit \n",
       "21: bho_se               | on                                   |    BEN: Housing allowance \n",
       "22: bhope_se             | on                                   |    BEN: Housing allowance for pensioners \n",
       "23: bsamt_se             | on                                   |    BEN: Social Assistance (means-tested) \n",
       "24: output_std_se        | on                                   |    DEF: STANDARD OUTPUT INDIVIDUAL LEVEL \n",
       "25: output_std_hh_se     | off                                  |    DEF: STANDARD OUTPUT HOUSEHOLD LEVEL "
      ]
     },
     "execution_count": 11,
     "metadata": {},
     "output_type": "execute_result"
    }
   ],
   "source": [
    "mod.countries[\"SE\"].systems[\"SE_2021\"].policies"
   ]
  },
  {
   "cell_type": "markdown",
   "metadata": {},
   "source": [
    "Here we see that some policies are turned off by default. Note that the behaviour of the policies can be controlled from the connector. We can for example switch the policy bunct_se to on. Let us first look at the policy"
   ]
  },
  {
   "cell_type": "code",
   "execution_count": 12,
   "metadata": {},
   "outputs": [
    {
     "data": {
      "text/plain": [
       "------------------------------\n",
       "PolicyInSystem\n",
       "------------------------------\n",
       "\t ID: 'bde78132-3f44-4d2e-a1ea-4849f88c277622DDB39D-1393-4196-AC79-23825D0D6DF2'\n",
       "\t comment: 'BEN: Housing allowance for pensioners'\n",
       "\t extensions: 0 elements\n",
       "\t functions: 19 elements\n",
       "\t name: 'bhope_se'\n",
       "\t order: '23'\n",
       "\t polID: '22DDB39D-1393-4196-AC79-23825D0D6DF2'\n",
       "\t private: 'no'\n",
       "\t spineOrder: '23'\n",
       "\t switch: 'on'\n",
       "\t sysID: 'bde78132-3f44-4d2e-a1ea-4849f88c2776'"
      ]
     },
     "execution_count": 12,
     "metadata": {},
     "output_type": "execute_result"
    }
   ],
   "source": [
    "mod.countries[\"SE\"].systems[\"SE_2021\"].policies[22]"
   ]
  },
  {
   "cell_type": "markdown",
   "metadata": {},
   "source": [
    "We see here that there is this attribute `switch` that is part of the `PolicyInSystem` class. This attribute, similar to attribute is modifiable and the changes that you will make will be passed to the EUROMOD software when simulating. Changes implemented during your Python session are however not lasting. For now, when making lasting changes to the model, one should implement them via the User Interface of EUROMOD. Note that the python connector is not checking what kind of modifications you make to the model. Changing attributes like ID's are definitely not adviseable. "
   ]
  },
  {
   "cell_type": "code",
   "execution_count": 13,
   "metadata": {
    "editable": true,
    "slideshow": {
     "slide_type": ""
    },
    "tags": []
   },
   "outputs": [
    {
     "name": "stdout",
     "output_type": "stream",
     "text": [
      "Simulation for system SE_2021 with dataset SE_2021_b1 finished.\n"
     ]
    },
    {
     "data": {
      "text/plain": [
       "0.0"
      ]
     },
     "execution_count": 13,
     "metadata": {},
     "output_type": "execute_result"
    }
   ],
   "source": [
    "mod.countries[\"SE\"].systems[\"SE_2021\"].policies[13].switch = 'on'\n",
    "out_with_bunct_se = mod.countries[\"SE\"].systems[\"SE_2021\"].run(data,\"SE_2021_b1\")\n",
    "# Here we see that the average benefit, which is represented by ils_ben,  is indeed larger by switching on the bunct_se policy.\n",
    "out_baseline.outputs[0].ils_ben.mean() - out_with_bunct_se.outputs[0].ils_ben.mean()"
   ]
  },
  {
   "cell_type": "code",
   "execution_count": 14,
   "metadata": {},
   "outputs": [
    {
     "data": {
      "text/plain": [
       "0: setdefault_se         | on                                   |    DEF: SET DEFAULT \n",
       "1: uprate_se             | on                                   |    DEF: UPRATING FACTORS \n",
       "2: ConstDef_se           | on                                   |    DEF: CONSTANTS \n",
       "3: IlsDef_se             | on                                   |    DEF: INCOME CONCEPTS (standardized) \n",
       "4: IlsUDBdef_se          | on                                   |    DEF: INCOME CONCEPTS (UDB) \n",
       "5: ildef_se              | on                                   |    DEF: INCOME CONCEPTS (non-standardized) \n",
       "6: random_se             | on                                   |    DEF: Random assignment \n",
       "7: TransLMA_se           | off                                  |    DEF: Modelling labour market transitions (DO NOT S ... \n",
       "8: tudef_se              | on                                   |    DEF: ASSESSMENT UNITS \n",
       "9: yem_se                | off (with switch set for MWA)        |    DEF: minimum wage \n",
       "10: neg_se               | on                                   |    DEF: recode negative self-employment income to zer ... \n",
       "11: yemcomp_se           | on                                   |    BEN: wage compensation scheme COVID-19  (ONLY WORK ... \n",
       "12: bunct_se             | off                                  |    BEN: unemployment benefit (contributory) \n",
       "13: bfapl_se             | on (with switch set for PBE)         |    BEN: Parental leave benefit  \n",
       "14: bpa_se               | off (with switch set for PBE)        |    BEN: Special leave days other parent (10 days) \n",
       "15: tscee_se             | on                                   |    SIC: Employee Social Insurance contribution \n",
       "16: tscer_se             | on                                   |    SIC: Employer Social Insurance contribution \n",
       "17: tscse_se             | on                                   |    SIC: Self-employed Social Insurance contribution \n",
       "18: tin_se               | on                                   |    TAX: Personal Income tax \n",
       "19: tinkt_se             | on                                   |    TAX: Tax on Capital Income \n",
       "20: bch_se               | on                                   |    BEN: Child benefit \n",
       "21: bho_se               | on                                   |    BEN: Housing allowance \n",
       "22: bhope_se             | on                                   |    BEN: Housing allowance for pensioners \n",
       "23: bsamt_se             | on                                   |    BEN: Social Assistance (means-tested) \n",
       "24: output_std_se        | on                                   |    DEF: STANDARD OUTPUT INDIVIDUAL LEVEL \n",
       "25: output_std_hh_se     | off                                  |    DEF: STANDARD OUTPUT HOUSEHOLD LEVEL "
      ]
     },
     "execution_count": 14,
     "metadata": {},
     "output_type": "execute_result"
    }
   ],
   "source": [
    "mod.countries[\"SE\"].systems[\"SE_2021\"].policies"
   ]
  },
  {
   "cell_type": "markdown",
   "metadata": {},
   "source": [
    "As mentioned earlier, the connector mimicks the hierarchical structure of the UI. Hence, the definition of functions and parameters are defined on the country level, and their actual implementation are here also accessible via the Tax System. Note that also here, the values of a parameter and the switch of a function can be manipulated through the Python Connector without saving the changes permanently."
   ]
  },
  {
   "cell_type": "code",
   "execution_count": 15,
   "metadata": {},
   "outputs": [
    {
     "name": "stdout",
     "output_type": "stream",
     "text": [
      "0: DefVar       |    Temporary variables for Housing Allowance for pens ... \n",
      "1: Elig         |    Living with partner \n",
      "2: ArithOp      |    Wealth to be included in the means \n",
      "3: Elig         |    Living without partner \n",
      "4: ArithOp      |    Wealth to be included in the means \n",
      "5: Allocate     |    Allocation of wealth to the partners \n",
      "6: Elig         |    Elderly or disabled adult (i.e. head or partner) \n",
      "7: BenCalc      |    \"Reserved amount (\"\"income disregard\"\")\" \n",
      "8: BenCalc      |    Change in definition of Income Means for for Housi ... \n",
      "9: DefIl        |    Income Means for Housing Allowance for pensioners \n",
      "10: BenCalc     |    Income of children is not take into account in the ... \n",
      "11: BenCalc     |    Maximum housing allowance \n",
      "12: BenCalc     |     \n",
      "13: BenCalc     |    Maximum housing allowance \n",
      "14: BenCalc     |    Maximum housing allowance \n",
      "15: Allocate    |    Allocation of income to the partners \n",
      "16: BenCalc     |    Final housing allowance for pensioners \n",
      "17: Allocate    |    Sharing housing cost \n",
      "18: BenCalc     |    Housing allowance for pensioners \n",
      "\n",
      "0: DefVar        | on        |    Temporary variables for Housing Allowance for pens ... \n",
      "1: Elig          | on        |    Living with partner \n",
      "2: ArithOp       | on        |    Wealth to be included in the means \n",
      "3: Elig          | on        |    Living without partner \n",
      "4: ArithOp       | on        |    Wealth to be included in the means \n",
      "5: Allocate      | on        |    Allocation of wealth to the partners \n",
      "6: Elig          | on        |    Elderly or disabled adult (i.e. head or partner) \n",
      "7: BenCalc       | on        |    \"Reserved amount (\"\"income disregard\"\")\" \n",
      "8: BenCalc       | on        |    Change in definition of Income Means for for Housi ... \n",
      "9: DefIl         | on        |    Income Means for Housing Allowance for pensioners \n",
      "10: BenCalc      | on        |    Income of children is not take into account in the ... \n",
      "11: BenCalc      | on        |    Maximum housing allowance \n",
      "12: BenCalc      | off       |     \n",
      "13: BenCalc      | off       |    Maximum housing allowance \n",
      "14: BenCalc      | on        |    Maximum housing allowance \n",
      "15: Allocate     | on        |    Allocation of income to the partners \n",
      "16: BenCalc      | on        |    Final housing allowance for pensioners \n",
      "17: Allocate     | on        |    Sharing housing cost \n",
      "18: BenCalc      | on        |    Housing allowance for pensioners \n",
      "\n"
     ]
    }
   ],
   "source": [
    "# Overview of the functions defined in the bho_se policy\n",
    "print(mod.countries[\"SE\"].policies[22].functions)\n",
    "# System specific Implementation of functions\n",
    "print(mod.countries[\"SE\"].systems[\"SE_2021\"].policies[22].functions)"
   ]
  },
  {
   "cell_type": "code",
   "execution_count": 16,
   "metadata": {},
   "outputs": [
    {
     "name": "stdout",
     "output_type": "stream",
     "text": [
      "0: i_means_bhope_prel\n",
      "\n",
      "0: i_means_bhope_prel     | 0  \n",
      "\n"
     ]
    }
   ],
   "source": [
    "# Overview of the parameters defined in the bho_se policy\n",
    "print(mod.countries[\"SE\"].policies[22].functions[0].parameters)\n",
    "# Implementation of parameters\n",
    "print(mod.countries[\"SE\"].systems[\"SE_2021\"].policies[22].functions[0].parameters)"
   ]
  },
  {
   "cell_type": "markdown",
   "metadata": {},
   "source": [
    "#### Other Important EUROMOD Objects\n",
    "Central to the EUROMOD project, next to the coding of the policies is the microdata. How datasets should be treated by the model is configured in the model already. The attributes of the datasets are just like the spine-elements accessible and modifiable."
   ]
  },
  {
   "cell_type": "code",
   "execution_count": 17,
   "metadata": {},
   "outputs": [
    {
     "data": {
      "text/plain": [
       "0: SE_2007_a4   \n",
       "1: SE_2008_a3   \n",
       "2: training_data\n",
       "3: SE_2010_a1   \n",
       "4: SE_2012_a2   \n",
       "5: SE_2015_a1   \n",
       "6: SE_2009_hhot \n",
       "7: SE_2010_hhot \n",
       "8: SE_2011_hhot \n",
       "9: SE_2012_hhot \n",
       "10: SE_2013_hhot\n",
       "11: SE_2014_hhot\n",
       "12: SE_2015_hhot\n",
       "13: SE_2016_hhot\n",
       "14: SE_2017_hhot\n",
       "15: SE_2016_a1  \n",
       "16: SE_2018_hhot\n",
       "17: SE_2019_hhot\n",
       "18: SE_2018_a2  \n",
       "19: SE_2017_a3  \n",
       "20: SE_2020_hhot\n",
       "21: SE_2019_a1  \n",
       "22: SE_2020_b1  \n",
       "23: SE_2021_hhot\n",
       "24: SE_2022_hhot\n",
       "25: SE_2021_b1  \n",
       "26: SE_2023_hhot"
      ]
     },
     "execution_count": 17,
     "metadata": {},
     "output_type": "execute_result"
    }
   ],
   "source": [
    "mod.countries[\"SE\"].datasets"
   ]
  },
  {
   "cell_type": "markdown",
   "metadata": {},
   "source": [
    "In the previous section we used SE_2022_b1. Let us have a look at it."
   ]
  },
  {
   "cell_type": "code",
   "execution_count": 18,
   "metadata": {},
   "outputs": [
    {
     "data": {
      "text/plain": [
       "------------------------------\n",
       "Dataset\n",
       "------------------------------\n",
       "\t ID: 'c7b651ed-b311-4e39-80b4-18ca19957ce7'\n",
       "\t coicopVersion: ''\n",
       "\t comment: ''\n",
       "\t currency: 'national'\n",
       "\t decimalSign: '.'\n",
       "\t name: 'SE_2021_b1'\n",
       "\t private: 'no'\n",
       "\t readXVariables: 'no'\n",
       "\t useCommonDefault: 'no'\n",
       "\t yearCollection: '2021'\n",
       "\t yearInc: '2020'"
      ]
     },
     "execution_count": 18,
     "metadata": {},
     "output_type": "execute_result"
    }
   ],
   "source": [
    "mod.countries[\"SE\"].datasets[\"SE_2021_b1\"]"
   ]
  },
  {
   "cell_type": "markdown",
   "metadata": {},
   "source": [
    "Similar to policies, functions and parameters, can the attributes of the policies be modified here. An other important concept in euromod are extensions and are defined globally on the `Model` level or locally on the `Country` level. "
   ]
  },
  {
   "cell_type": "code",
   "execution_count": 19,
   "metadata": {},
   "outputs": [
    {
     "data": {
      "text/plain": [
       "------------------------------\n",
       "Extension\n",
       "------------------------------\n",
       "\t ID: '557c232a-9ce6-4808-b52f-ca5e02fe8cf4'\n",
       "\t look: '|BUTTON_COLOR=-16744384|'\n",
       "\t name: 'Minimum Wage Adjustments'\n",
       "\t shortName: 'MWA'"
      ]
     },
     "execution_count": 19,
     "metadata": {},
     "output_type": "execute_result"
    }
   ],
   "source": [
    "mod.countries[\"SE\"].extensions[7]"
   ]
  },
  {
   "cell_type": "markdown",
   "metadata": {},
   "source": [
    "The `extensions` object is of the type `Container`, which means that you can index it by the number preceding their name. If we want to access the information stored in the Minimum Wage Adjustments extension for example, one can simply use the following command. "
   ]
  },
  {
   "cell_type": "markdown",
   "metadata": {},
   "source": [
    "Displaying information about a dataset relative to a system, e.g. dataset 'sl_demo_v4' for the system 'SL_1996', by indexing the attribute `datasets`:"
   ]
  },
  {
   "cell_type": "code",
   "execution_count": 20,
   "metadata": {},
   "outputs": [
    {
     "data": {
      "text/plain": [
       "------------------------------\n",
       "DatasetInSystem\n",
       "------------------------------\n",
       "\t ID: 'F7E5CACE-CECC-4BB6-9841-A936D0975481CBA7E428-F8E4-4CEB-8A5E-9ACE73987DD7'\n",
       "\t bestMatch: 'yes'\n",
       "\t coicopVersion: ''\n",
       "\t comment: ''\n",
       "\t currency: 'euro'\n",
       "\t dataID: 'CBA7E428-F8E4-4CEB-8A5E-9ACE73987DD7'\n",
       "\t decimalSign: '.'\n",
       "\t name: 'sl_demo_v4'\n",
       "\t private: 'no'\n",
       "\t readXVariables: 'no'\n",
       "\t sysID: 'F7E5CACE-CECC-4BB6-9841-A936D0975481'\n",
       "\t useCommonDefault: 'no'"
      ]
     },
     "execution_count": 20,
     "metadata": {},
     "output_type": "execute_result"
    }
   ],
   "source": [
    "mod.countries['SL'].systems['SL_1996'].datasets[0]"
   ]
  }
 ],
 "metadata": {
  "kernelspec": {
   "display_name": "Python 3 (ipykernel)",
   "language": "python",
   "name": "python3"
  },
  "language_info": {
   "codemirror_mode": {
    "name": "ipython",
    "version": 3
   },
   "file_extension": ".py",
   "mimetype": "text/x-python",
   "name": "python",
   "nbconvert_exporter": "python",
   "pygments_lexer": "ipython3",
   "version": "3.11.5"
  }
 },
 "nbformat": 4,
 "nbformat_minor": 4
}
