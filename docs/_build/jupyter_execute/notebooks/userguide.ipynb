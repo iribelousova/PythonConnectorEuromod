{
 "cells": [
  {
   "cell_type": "markdown",
   "metadata": {
    "editable": true,
    "slideshow": {
     "slide_type": ""
    },
    "tags": []
   },
   "source": [
    "# User Guide"
   ]
  },
  {
   "cell_type": "markdown",
   "metadata": {},
   "source": [
    "## What is the Euromod Conector?\n",
    "Euromod Conector is a Python library providing tools for running simulations and interacting with the tax-benefit microsimulation model [EUROMOD](https://euromod-web.jrc.ec.europa.eu \"https://euromod-web.jrc.ec.europa.eu\"). \n",
    "The fundamental object of the Euromod Connector is the `core.Model` class that nests the EUROMOD country-system models under the attribute `countries`. Each country object is a `core.Country` class that collects in the `systems` attribute the country specific `core.System` classes with the EUROMOD tax-benefit systems. The country and system objects contain other various derived objects, such as datasets, policies, parameters, functions, extensions, and add-ons.\n",
    "The simulation output is returned from the `run` method as a `core.Simulation` class.\n",
    "\n",
    " ```{important}\n",
    "Modifying the objects in the Euromod Connector does not affect the EUROMOD original model that is, the `core.Model` module loads the original EUROMOD model files at each execution.\n",
    "```\n",
    "\n",
    " ```{tip}\n",
    "The objects that inherit from the `core.Container` class can be indexed in two ways: via an integer or a string being the name of the object.\n",
    "```\n",
    "\n",
    "The following indexing conventions apply:\n",
    "\n",
    "- The objects of the attributes `countries`, `systems`, and `simulations` can be accessed using a single integer or a label. For the country object the label is a two-letter country name, for the system object it is the system's name, for the simulation object it is the name of the simulation output dataset (Examples: `core.Model.countries['PL'], core.Model.countries['PL'].systems['PL_2020'], core.Model.countries[3], core.Model.countries[3].systems[10]`). \n",
    "\n",
    "- The `core.Country` objects can be accessed directly from the model object, i.e. omitting the attribute `countries` (Examples: `core.Model['PL'], core.Model[3]` are equivalent to `core.Model.countries[3]`).\n",
    "\n",
    "- The `core.System` objects can be accessed directly from the country object, i.e. omitting the attribute `systems` (Examples: `core.Model['PL'][0], core.Model[3]['PL_2005']` are equivalent to `core.Model.['PL'].systems['PL_2005']`)."
   ]
  },
  {
   "cell_type": "markdown",
   "metadata": {},
   "source": [
    "## Installation\n",
    "The Euromod Connector can be installed from [PyPi](https://test.pypi.org/project/euromod/)  using _pip_:"
   ]
  },
  {
   "cell_type": "markdown",
   "metadata": {},
   "source": [
    "```bash\n",
    "$ pip install euromod\n",
    "```"
   ]
  },
  {
   "cell_type": "markdown",
   "metadata": {},
   "source": [
    "### Requirements\n",
    "The Euromod Connector requires two [EUROMOD](https://euromod-web.jrc.ec.europa.eu \"https://euromod-web.jrc.ec.europa.eu\") components: 1) the model (coded policy rules) , and 2) the input microdata with the variables that respect the [EUROMOD](https://euromod-web.jrc.ec.europa.eu \"https://euromod-web.jrc.ec.europa.eu\") naming conventions.\n",
    "For more information, please, read the sections \"Model\" and \"Input microdata\" on the [Download Euromod](https://euromod-web.jrc.ec.europa.eu/download-euromod \"https://euromod-web.jrc.ec.europa.eu/download-euromod\") web page.\n",
    "\n",
    "```{admonition} Python version support\n",
    "\n",
    "Minimum Python version 3.8 required.\n",
    "```\n",
    "\n",
    "```{admonition} Windows version support\n",
    "\n",
    "Windows 64-bit.\n",
    "```\n",
    "\n",
    "### Dependencies\n",
    "\n",
    "The Euromod Connector requires the following dependencies:\n",
    "\n",
    "| Package | Minimum supported version |\n",
    "| ------ | ------ |\n",
    "| pandas | 2.0.3|\n",
    "| pythonnet | 3.0.2 |\n",
    "\n",
    "### Managing Errors\n",
    "\n",
    "```{admonition} **ModuleNotFoundError** or **AttributeError**\n",
    ":class: error\n",
    "\n",
    "When the `import` of the Euromod Connector libreries fails, please, uninstall the Python _clr_ package and re-install the _pythonnet_ package: \n",
    "```\n",
    "\n",
    "```bash\n",
    "$ pip uninstall clr\n",
    "$ pip install pythonnet\n",
    "```\n",
    "This error is typically caused by a conflict between the Python _clr_ package and the _clr_ library of the _pythonnet_ package.\n",
    "\n",
    "```{admonition} **RuntimeError**\n",
    ":class: error\n",
    "\n",
    "Please, perform one of the following tasks: \n",
    "1) Restart the kernel of the current console window.\n",
    "2) Open a new console window.\n",
    "3) Deselect the option *User Module Reloader (UMR)* in the `Tools`-> `Preferences` -> `Python Interpreter` (or `Tools` -> `Console` -> `Advanced setting`) then press `Apply` and `Ok`, and restart the consol windows.\n",
    "```\n",
    " ```{note}\n",
    "Re-enabling the UMR option has no effect on the console windows that are already open.\n",
    "```\n",
    "\n",
    "This error is typically produced when Python reloads the libraries from the _pythonnet_ package."
   ]
  },
  {
   "cell_type": "markdown",
   "metadata": {},
   "source": [
    "## Model"
   ]
  },
  {
   "cell_type": "markdown",
   "metadata": {},
   "source": [
    "Import the EUROMOD model:"
   ]
  },
  {
   "cell_type": "code",
   "execution_count": 1,
   "metadata": {},
   "outputs": [],
   "source": [
    "from euromod import Model"
   ]
  },
  {
   "cell_type": "markdown",
   "metadata": {},
   "source": [
    "Create an object of the `core.Model` class by passing the path to the  EUROMOD project: "
   ]
  },
  {
   "cell_type": "code",
   "execution_count": 2,
   "metadata": {},
   "outputs": [],
   "source": [
    "mod = Model(r\"C:\\EUROMOD_RELEASES_I6.0+\")"
   ]
  },
  {
   "cell_type": "markdown",
   "metadata": {},
   "source": [
    "The model object `mod` has two attributes: the EUROMOD `model_path` defined by the user, and `countries` which instantiates the `core.Country` classes for the EUROMOD default countries."
   ]
  },
  {
   "cell_type": "markdown",
   "metadata": {},
   "source": [
    "## Country "
   ]
  },
  {
   "cell_type": "markdown",
   "metadata": {},
   "source": [
    "Use `Model.countries` to display the default EUROMOD country objects:"
   ]
  },
  {
   "cell_type": "code",
   "execution_count": 3,
   "metadata": {
    "editable": true,
    "slideshow": {
     "slide_type": ""
    },
    "tags": [
     "hide-output"
    ]
   },
   "outputs": [
    {
     "data": {
      "text/plain": [
       "0: AT \n",
       "1: BE \n",
       "2: BG \n",
       "3: CY \n",
       "4: CZ \n",
       "5: DE \n",
       "6: DK \n",
       "7: EE \n",
       "8: EL \n",
       "9: ES \n",
       "10: FI\n",
       "11: FR\n",
       "12: HR\n",
       "13: HU\n",
       "14: IE\n",
       "15: IT\n",
       "16: LT\n",
       "17: LU\n",
       "18: LV\n",
       "19: MT\n",
       "20: NL\n",
       "21: PL\n",
       "22: PT\n",
       "23: RO\n",
       "24: SE\n",
       "25: SI\n",
       "26: SK\n",
       "27: SL"
      ]
     },
     "execution_count": 3,
     "metadata": {},
     "output_type": "execute_result"
    }
   ],
   "source": [
    "mod.countries"
   ]
  },
  {
   "cell_type": "markdown",
   "metadata": {},
   "source": [
    "Getting the `core.Country` object for Belgium 'BE' (**Note:** The following commands are equivalent):"
   ]
  },
  {
   "cell_type": "code",
   "execution_count": 4,
   "metadata": {},
   "outputs": [
    {
     "data": {
      "text/plain": [
       "------------------------------\n",
       "Country\n",
       "------------------------------\n",
       "\t datasets: 28 elements\n",
       "\t extensions: 13 elements\n",
       "\t local_extensions: Belmod_endo, Belmod_exo\n",
       "\t name: 'BE'\n",
       "\t policies: 42 elements\n",
       "\t systems: 20 elements"
      ]
     },
     "execution_count": 4,
     "metadata": {},
     "output_type": "execute_result"
    }
   ],
   "source": [
    "mod.countries['BE']\n",
    "mod.countries[1]\n",
    "mod[1]\n",
    "mod['BE']"
   ]
  },
  {
   "cell_type": "markdown",
   "metadata": {},
   "source": [
    "The attributes of the `core.Country` class store the EUROMOD country-specific objects, such as the available datasets and systems, and the modelled policies and extensions. These objects contain other sub-classes with more specific information about the model."
   ]
  },
  {
   "cell_type": "markdown",
   "metadata": {},
   "source": [
    "### Datasets\n",
    "Attribute `datasets` is a collection of `core.Dataset` objects with all the available datasets for a given country (e.g. Belgium 'BE'):"
   ]
  },
  {
   "cell_type": "code",
   "execution_count": 5,
   "metadata": {
    "editable": true,
    "slideshow": {
     "slide_type": ""
    },
    "tags": [
     "hide-output"
    ]
   },
   "outputs": [
    {
     "data": {
      "text/plain": [
       "0: BE_2006_a3   \n",
       "1: BE_2007_a3   \n",
       "2: BE_2008_a1   \n",
       "3: training_data\n",
       "4: BE_2010_a2   \n",
       "5: BE_2012_a5   \n",
       "6: BE_2009_hhot \n",
       "7: BE_2010_hhot \n",
       "8: BE_2011_hhot \n",
       "9: BE_2012_hhot \n",
       "10: BE_2013_hhot\n",
       "11: BE_2014_hhot\n",
       "12: BE_2015_hhot\n",
       "13: BE_2016_hhot\n",
       "14: BE_2015_a1  \n",
       "15: BE_2016_a1  \n",
       "16: BE_2017_hhot\n",
       "17: BE_2018_hhot\n",
       "18: BE_2019_hhot\n",
       "19: BE_2017_a4  \n",
       "20: BE_2018_a3  \n",
       "21: BE_2020_hhot\n",
       "22: BE_2019_c3  \n",
       "23: BE_2021_hhot\n",
       "24: BE_2020_c2  \n",
       "25: BE_2022_hhot\n",
       "26: BE_2023_hhot\n",
       "27: BE_2021_c6  "
      ]
     },
     "execution_count": 5,
     "metadata": {},
     "output_type": "execute_result"
    }
   ],
   "source": [
    "mod[\"BE\"].datasets"
   ]
  },
  {
   "cell_type": "markdown",
   "metadata": {},
   "source": [
    "Display the general information about a specific dataset by indexing the `datasets` attribute of a country (e.g. Belgium 'BE'):"
   ]
  },
  {
   "cell_type": "code",
   "execution_count": 6,
   "metadata": {},
   "outputs": [
    {
     "data": {
      "text/plain": [
       "------------------------------\n",
       "Dataset\n",
       "------------------------------\n",
       "\t ID: '2171a46a-7480-41e3-9ee0-7caa85a306c8'\n",
       "\t coicopVersion: ''\n",
       "\t comment: ''\n",
       "\t currency: 'euro'\n",
       "\t decimalSign: '.'\n",
       "\t name: 'BE_2021_c6'\n",
       "\t private: 'no'\n",
       "\t readXVariables: 'no'\n",
       "\t useCommonDefault: 'no'\n",
       "\t yearCollection: '2021'\n",
       "\t yearInc: '2020'"
      ]
     },
     "execution_count": 6,
     "metadata": {},
     "output_type": "execute_result"
    }
   ],
   "source": [
    "mod[\"BE\"].datasets[-1]"
   ]
  },
  {
   "cell_type": "markdown",
   "metadata": {},
   "source": [
    "### Extensions\n",
    "Display the extensions modelled for a given country (e.g. Belgium 'BE') using the attribute `local_extensions`:"
   ]
  },
  {
   "cell_type": "code",
   "execution_count": 7,
   "metadata": {},
   "outputs": [
    {
     "data": {
      "text/plain": [
       "0: BELMOD - Endogenous\n",
       "1: BELMOD - Exogenous "
      ]
     },
     "execution_count": 7,
     "metadata": {},
     "output_type": "execute_result"
    }
   ],
   "source": [
    "mod.countries[1].local_extensions"
   ]
  },
  {
   "cell_type": "markdown",
   "metadata": {},
   "source": [
    "The attribute returns a collection of `core.Extension` objects that can be indexed to get the element-specific information:"
   ]
  },
  {
   "cell_type": "code",
   "execution_count": 8,
   "metadata": {},
   "outputs": [
    {
     "data": {
      "text/plain": [
       "'BELMOD - Endogenous'"
      ]
     },
     "execution_count": 8,
     "metadata": {},
     "output_type": "execute_result"
    }
   ],
   "source": [
    "mod['BE'].local_extensions[0].name"
   ]
  },
  {
   "cell_type": "markdown",
   "metadata": {},
   "source": [
    "### Policies\n",
    "Use the attribute `policies` to display all the policies for a given country (e.g. Belgium 'BE'):"
   ]
  },
  {
   "cell_type": "code",
   "execution_count": 9,
   "metadata": {
    "editable": true,
    "slideshow": {
     "slide_type": ""
    },
    "tags": [
     "hide-output"
    ]
   },
   "outputs": [
    {
     "data": {
      "text/plain": [
       "0: SetDefault_be         |                                                       |    DEF: Default VALUES \n",
       "1: uprate_be             |                                                       |    DEF: UPRATING FACTORS \n",
       "2: ConstDef_be           |  (with switch set for Belmod_endo, Belmod_exo)        |    DEF: Constants \n",
       "3: ILsDef_be             |                                                       |    DEF: STANDARD INCOME CONCEPTS \n",
       "4: ILsUDBDef_be          |  (with switch set for Belmod_endo, Belmod_exo)        |    DEF: UDB INCOME CONCEPTS \n",
       "5: ILDef_be              |                                                       |    DEF: NON-STANDARD INCOME CONCEPTS \n",
       "6: random_be             |                                                       |    Def: Random number generator \n",
       "7: TransLMA_be           |                                                       |    DEF: Modelling labour market transitions (DO NOT S ... \n",
       "8: TUDef_be              |                                                       |    DEF: ASSESSMENT UNITS (OFF for MOTYFF) \n",
       "9: InitVars_be           |                                                       |    DEF: Initialization of variables \n",
       "10: yem_be               |  (with switch set for MWA)                            |    DEF: minimum wage  (off in motyff) \n",
       "11: neg_be               |  (with switch set for Belmod_endo, Belmod_exo)        |    DEF: recode negative income to zero \n",
       "12: yemcomp_be           |  (with switch set for Belmod_endo, Belmod_exo)        |    BEN: Wage compensation scheme Covid-19 \n",
       "13: ysecomp_be           |  (with switch set for Belmod_endo, Belmod_exo)        |    BEN: Wage compensation scheme Covid-19 (self-emplo ... \n",
       "14: tscee_be             |                                                       |    SIC: employee (OFF for MOTYFF) \n",
       "15: tscpe_be             |                                                       |    SIC: pensioners contributions to health and disabi ... \n",
       "16: tscer_be             |  (with switch set for Belmod_endo, Belmod_exo)        |    SIC: employer (OFF for MOTYFF) \n",
       "17: tscse_be             |                                                       |    SIC: self-employed \n",
       "18: tintace_be           |                                                       |    ADMIN TAX: PIT - deduction professional expenses ( ... \n",
       "19: tinwh_be             |                                                       |    TAX: withholding Income Tax | (not implemented bef ... \n",
       "20: bmact_be             |  (with switch set for PBE)                            |    BEN: Maternity leave \n",
       "21: bpact_be             |  (with switch set for PBE)                            |    BEN: Paternity leave benefit \n",
       "22: bfapl_be             |  (with switch set for PBE)                            |    BEN: Parental leave \n",
       "23: bun_be               |                                                       |    BEN: Unemployment benefit (PART SIMULATED)  \n",
       "24: byr_be               |                                                       |    BEN: Early Retirement Benefit \n",
       "25: tprhm_be             |  (with switch set for Belmod_endo, Belmod_exo)        |    TAX: Advance levy on immovable property \n",
       "26: tintb_be             |  (with switch set for Belmod_endo, Belmod_exo)        |    TAX: PIT - Tax deductions & marital quotient \n",
       "27: tinna_be             |  (with switch set for Belmod_endo, Belmod_exo)        |    TAX: PIT - Federal Taxes \n",
       "28: tinrg_be             |  (with switch set for Belmod_endo, Belmod_exo)        |    TAX: PIT - Regional Taxes \n",
       "29: tinfe_be             |  (with switch set for Belmod_endo, Belmod_exo)        |    TAX: PIT - Fiscal Expenditures \n",
       "30: tinmu_be             |                                                       |    TAX: PIT - Local Taxes \n",
       "31: tinkt_be             |  (with switch set for Belmod_endo, Belmod_exo)        |    TAX: Capital Income Tax \n",
       "32: tsceesp_be           |                                                       |    SIC: special social insurance contribution \n",
       "33: bchba_be             |                                                       |    BEN: birth allowance \n",
       "34: bsa_be               |                                                       |    Income support (switch: OFF for MOTYFF, ON for oth ... \n",
       "35: bch_be               |                                                       |    BEN: child benefit \n",
       "36: bsaoa_be             |  (with switch set for Belmod_endo, Belmod_exo)        |    \"BEN: income support for the elderly (TO BE SWITCH ... \n",
       "37: bed_be               |  (with switch set for Belmod_endo, Belmod_exo)        |    BEN: Study allowances (Flemish and French communit ... \n",
       "38: bwkrg_be             |  (with switch set for Belmod_endo, Belmod_exo)        |    BEN: Flemish jobbonus \n",
       "39: tci_be               |  (with switch set for Belmod_endo, Belmod_exo)        |    SIC: Care Insurance Contribution (zorgverzekering) ... \n",
       "40: output_std_be        |  (with switch set for Belmod_endo, Belmod_exo)        |    DEF: STANDARD OUTPUT INDIVIDUAL LEVEL \n",
       "41: output_std_hh_be     |                                                       |    DEF: STANDARD OUTPUT HOUSEHOLD LEVEL "
      ]
     },
     "execution_count": 9,
     "metadata": {},
     "output_type": "execute_result"
    }
   ],
   "source": [
    "mod[\"BE\"].policies"
   ]
  },
  {
   "cell_type": "markdown",
   "metadata": {},
   "source": [
    "Get a `core.Policy` specific information by indexing the `policies` attribute (e.g. the employment income policy 'yem_be'):"
   ]
  },
  {
   "cell_type": "code",
   "execution_count": 10,
   "metadata": {},
   "outputs": [
    {
     "data": {
      "text/plain": [
       "------------------------------\n",
       "Policy\n",
       "------------------------------\n",
       "\t ID: '923fae10-f0b6-4666-aa2f-ae37bde1d4dc'\n",
       "\t comment: 'DEF: minimum wage  (off in motyff)'\n",
       "\t extensions: ExtensionSwitch Minimum Wage Adjustments: on\n",
       "\t functions: DefConst, Elig, ArithOp, BenCalc, BenCalc, ArithOp, BenCalc, Elig, ArithOp\n",
       "\t name: 'yem_be'\n",
       "\t order: '11'\n",
       "\t private: 'no'\n",
       "\t spineOrder: '11'"
      ]
     },
     "execution_count": 10,
     "metadata": {},
     "output_type": "execute_result"
    }
   ],
   "source": [
    "mod[\"BE\"].policies[10]"
   ]
  },
  {
   "cell_type": "markdown",
   "metadata": {},
   "source": [
    "The attributes in the `core.Policy` class contain the information about the policy name, ID, a related comment, as well as objects describing policy functions and extensions."
   ]
  },
  {
   "cell_type": "markdown",
   "metadata": {},
   "source": [
    "#### Extensions\n",
    "The attribute `extensions` contains `base.ExtensionSwitch` objects with policy-extension relevant information for a given country (e.g. policy 'yem_be' for Belgium 'BE'):"
   ]
  },
  {
   "cell_type": "code",
   "execution_count": 11,
   "metadata": {},
   "outputs": [
    {
     "data": {
      "text/plain": [
       "0: Minimum Wage Adjustments"
      ]
     },
     "execution_count": 11,
     "metadata": {},
     "output_type": "execute_result"
    }
   ],
   "source": [
    "mod[\"BE\"].policies[10].extensions"
   ]
  },
  {
   "cell_type": "code",
   "execution_count": 12,
   "metadata": {},
   "outputs": [
    {
     "data": {
      "text/plain": [
       "------------------------------\n",
       "ExtensionSwitch\n",
       "------------------------------\n",
       "\t baseOff: 'false'\n",
       "\t extensionID: '557c232a-9ce6-4808-b52f-ca5e02fe8cf4'\n",
       "\t polID: '923fae10-f0b6-4666-aa2f-ae37bde1d4dc'"
      ]
     },
     "execution_count": 12,
     "metadata": {},
     "output_type": "execute_result"
    }
   ],
   "source": [
    "mod[\"BE\"].policies[10].extensions[0]"
   ]
  },
  {
   "cell_type": "markdown",
   "metadata": {},
   "source": [
    "#### Functions\n",
    "The attribute `functions` stores all the functions related to the specific policy in a country (e.g. policy 'yem_be' for Belgium 'BE'):"
   ]
  },
  {
   "cell_type": "code",
   "execution_count": 13,
   "metadata": {
    "editable": true,
    "slideshow": {
     "slide_type": ""
    },
    "tags": [
     "hide-output"
    ]
   },
   "outputs": [
    {
     "data": {
      "text/plain": [
       "0: DefConst    |     \n",
       "1: Elig        |     \n",
       "2: ArithOp     |    monthly wage (corrected for the amounts of months  ... \n",
       "3: BenCalc     |     \n",
       "4: BenCalc     |     \n",
       "5: ArithOp     |    Adding holiday money to the statutory max \n",
       "6: BenCalc     |     \n",
       "7: Elig        |     \n",
       "8: ArithOp     |     "
      ]
     },
     "execution_count": 13,
     "metadata": {},
     "output_type": "execute_result"
    }
   ],
   "source": [
    "mod[\"BE\"].policies[10].functions"
   ]
  },
  {
   "cell_type": "markdown",
   "metadata": {},
   "source": [
    "Getting the information about a specific function from the `core.Function` object (e.g. function 'ArithOp' in policy 'yem_be' for Belgium 'BE'):"
   ]
  },
  {
   "cell_type": "code",
   "execution_count": 14,
   "metadata": {},
   "outputs": [
    {
     "data": {
      "text/plain": [
       "------------------------------\n",
       "Function\n",
       "------------------------------\n",
       "\t ID: 'bb7caeaf-e808-468e-9e1c-de029378ccd2'\n",
       "\t comment: 'monthly wage (corrected for the amounts of months you worked)'\n",
       "\t extensions: 0 elements\n",
       "\t name: 'ArithOp'\n",
       "\t order: '3'\n",
       "\t parameters: Who_Must_Be_Elig, Formula, Output_Var, TAX_UNIT\n",
       "\t polID: '923fae10-f0b6-4666-aa2f-ae37bde1d4dc'\n",
       "\t private: 'no'\n",
       "\t spineOrder: '11.3'"
      ]
     },
     "execution_count": 14,
     "metadata": {},
     "output_type": "execute_result"
    }
   ],
   "source": [
    "mod[\"BE\"].policies[10].functions[2]"
   ]
  },
  {
   "cell_type": "markdown",
   "metadata": {},
   "source": [
    "Beyond the usual attributes containing the name, identifier and a comment for the function object, the attribute `polID` provides the reference policy identifier from the `core.Policy` object, `parameters` collects the `core.Parameter` objects, and `extensions` attribute includes further modelling information of extensions."
   ]
  },
  {
   "cell_type": "markdown",
   "metadata": {},
   "source": [
    "#### Parameters\n",
    "Display all the policy-function related parameters or the specific information about a parameter for a given country (e.g. function 'ArithOp' in policy 'yem_be' for Belgium 'BE'):"
   ]
  },
  {
   "cell_type": "code",
   "execution_count": 15,
   "metadata": {
    "editable": true,
    "slideshow": {
     "slide_type": ""
    },
    "tags": [
     "hide-output"
    ]
   },
   "outputs": [
    {
     "data": {
      "text/plain": [
       "0: Who_Must_Be_Elig\n",
       "1: Formula         \n",
       "2: Output_Var      \n",
       "3: TAX_UNIT        "
      ]
     },
     "execution_count": 15,
     "metadata": {},
     "output_type": "execute_result"
    }
   ],
   "source": [
    "mod[\"BE\"].policies[10].functions[2].parameters"
   ]
  },
  {
   "cell_type": "markdown",
   "metadata": {},
   "source": [
    "Get the specific parameter (e.g. parameter 'Formula' in function 'ArithOp' in policy 'yem_be' for Belgium 'BE'):"
   ]
  },
  {
   "cell_type": "code",
   "execution_count": 16,
   "metadata": {},
   "outputs": [
    {
     "data": {
      "text/plain": [
       "------------------------------\n",
       "Parameter\n",
       "------------------------------\n",
       "\t ID: '2edfb096-4f7b-48cf-add9-9aed5b3eeab8'\n",
       "\t comment: ''\n",
       "\t extensions: 0 elements\n",
       "\t funID: 'bb7caeaf-e808-468e-9e1c-de029378ccd2'\n",
       "\t group: ''\n",
       "\t name: 'Formula'\n",
       "\t order: '2'\n",
       "\t spineOrder: '11.3.2'"
      ]
     },
     "execution_count": 16,
     "metadata": {},
     "output_type": "execute_result"
    }
   ],
   "source": [
    "mod[\"BE\"].policies[10].functions[2].parameters[1]"
   ]
  },
  {
   "cell_type": "markdown",
   "metadata": {},
   "source": [
    "## System \n",
    "\n",
    "The Euromod Connector stores the EUROMOD tax-benefit systems as `core.System` objects in the attribute `systems` of the `core.Country` class.\n",
    "\n",
    "Display all the available country systems in a country (e.g. Belgium 'BE'):"
   ]
  },
  {
   "cell_type": "code",
   "execution_count": 17,
   "metadata": {
    "editable": true,
    "slideshow": {
     "slide_type": ""
    },
    "tags": [
     "hide-output"
    ]
   },
   "outputs": [
    {
     "data": {
      "text/plain": [
       "0: BE_2005       \n",
       "1: BE_2006       \n",
       "2: BE_2007       \n",
       "3: BE_2008       \n",
       "4: BE_2009       \n",
       "5: BE_2010       \n",
       "6: BE_2011       \n",
       "7: BE_2012       \n",
       "8: BE_2013       \n",
       "9: BE_2014       \n",
       "10: BE_2015      \n",
       "11: BE_2016      \n",
       "12: BE_2017      \n",
       "13: BE_2018      \n",
       "14: BE_2019      \n",
       "15: BE_2020      \n",
       "16: BE_2021      \n",
       "17: BE_2022      \n",
       "18: BE_2023      \n",
       "19: BE_2023_const"
      ]
     },
     "execution_count": 17,
     "metadata": {},
     "output_type": "execute_result"
    }
   ],
   "source": [
    "mod['BE'].systems"
   ]
  },
  {
   "cell_type": "markdown",
   "metadata": {},
   "source": [
    "Get a specific system object (**Note:** The following commands, returning the system BE_2022 for Belgium, are equivalent):"
   ]
  },
  {
   "cell_type": "code",
   "execution_count": 18,
   "metadata": {},
   "outputs": [
    {
     "data": {
      "text/plain": [
       "------------------------------\n",
       "System\n",
       "------------------------------\n",
       "\t ID: '413c98e1-0fb9-4ff6-8adf-90438cf051b0'\n",
       "\t bestmatch_datasets: BE_2021_c6\n",
       "\t comment: ''\n",
       "\t currencyOutput: 'euro'\n",
       "\t currencyParam: 'euro'\n",
       "\t datasets: training_data, BE_2020_c2, BE_2022_hhot, BE_2021_c6\n",
       "\t headDefInc: 'ils_origrepy'\n",
       "\t name: 'BE_2022'\n",
       "\t order: '26'\n",
       "\t policies: 42 elements\n",
       "\t private: 'no'\n",
       "\t year: '2022'"
      ]
     },
     "execution_count": 18,
     "metadata": {},
     "output_type": "execute_result"
    }
   ],
   "source": [
    "mod[1][17]\n",
    "mod[1].systems[17]\n",
    "mod.countries[1].systems[17]\n",
    "mod.countries['BE'].systems['BE_2022']"
   ]
  },
  {
   "cell_type": "markdown",
   "metadata": {},
   "source": [
    "The `core.System` attributes contain the specific system information such as the identifier, the best-match dataset(s),a comment, the currencies of the model parameters and of the simulation output, all the system-specific datasets of type `core.DatasetInSystem` class,  the system's name, order, access and the reference year. The `policies` attribute collects the information about the system policies in `core.PolicyInSystem` classes. "
   ]
  },
  {
   "cell_type": "markdown",
   "metadata": {},
   "source": [
    "### Datasets\n",
    "Attribute `datasets` stores the `core.DatasetInSystem` objects with all the available datasets for a system (e.g. system 'BE_2022' for Belgium):"
   ]
  },
  {
   "cell_type": "code",
   "execution_count": 19,
   "metadata": {},
   "outputs": [
    {
     "data": {
      "text/plain": [
       "0: training_data     |             \n",
       "1: BE_2020_c2        |             \n",
       "2: BE_2022_hhot      |             \n",
       "3: BE_2021_c6        | best match  "
      ]
     },
     "execution_count": 19,
     "metadata": {},
     "output_type": "execute_result"
    }
   ],
   "source": [
    "mod[\"BE\"][17].datasets"
   ]
  },
  {
   "cell_type": "markdown",
   "metadata": {},
   "source": [
    "Getting the information about a specific system-dataset by indexing the `datasets` attribute:"
   ]
  },
  {
   "cell_type": "code",
   "execution_count": 20,
   "metadata": {},
   "outputs": [
    {
     "data": {
      "text/plain": [
       "------------------------------\n",
       "DatasetInSystem\n",
       "------------------------------\n",
       "\t ID: '413c98e1-0fb9-4ff6-8adf-90438cf051b02171a46a-7480-41e3-9ee0-7caa85a306c8'\n",
       "\t bestMatch: 'yes'\n",
       "\t coicopVersion: ''\n",
       "\t comment: ''\n",
       "\t currency: 'euro'\n",
       "\t dataID: '2171a46a-7480-41e3-9ee0-7caa85a306c8'\n",
       "\t decimalSign: '.'\n",
       "\t name: 'BE_2021_c6'\n",
       "\t private: 'no'\n",
       "\t readXVariables: 'no'\n",
       "\t sysID: '413c98e1-0fb9-4ff6-8adf-90438cf051b0'\n",
       "\t useCommonDefault: 'no'\n",
       "\t yearCollection: '2021'\n",
       "\t yearInc: '2020'"
      ]
     },
     "execution_count": 20,
     "metadata": {},
     "output_type": "execute_result"
    }
   ],
   "source": [
    "mod[\"BE\"][17].datasets[3]"
   ]
  },
  {
   "cell_type": "markdown",
   "metadata": {},
   "source": [
    "### Policies\n",
    "The attribute `policies` contains all the system-specific `core.PolicyInSystem` objects describing the policies. \n",
    "Get a specific policy object referring to a country-system model (e.g. the personal income tax policy 'tinmu_be' in system 'BE_2022' for Belgium) by indexing the `policies` attribute:"
   ]
  },
  {
   "cell_type": "code",
   "execution_count": 21,
   "metadata": {},
   "outputs": [
    {
     "data": {
      "text/plain": [
       "------------------------------\n",
       "PolicyInSystem\n",
       "------------------------------\n",
       "\t ID: '413c98e1-0fb9-4ff6-8adf-90438cf051b07464c9b2-1b1f-416b-acc7-1bd15c72bf56'\n",
       "\t comment: 'TAX: PIT - Local Taxes'\n",
       "\t extensions: 0 elements\n",
       "\t functions: DefConst, BenCalc, ArithOp\n",
       "\t name: 'tinmu_be'\n",
       "\t order: '31'\n",
       "\t polID: '7464c9b2-1b1f-416b-acc7-1bd15c72bf56'\n",
       "\t private: 'no'\n",
       "\t spineOrder: '31'\n",
       "\t switch: 'on'\n",
       "\t sysID: '413c98e1-0fb9-4ff6-8adf-90438cf051b0'"
      ]
     },
     "execution_count": 21,
     "metadata": {},
     "output_type": "execute_result"
    }
   ],
   "source": [
    "mod[\"BE\"]['BE_2022'].policies[30]"
   ]
  },
  {
   "cell_type": "markdown",
   "metadata": {},
   "source": [
    "\n",
    "With respect to a country class, the policy objects in the system classes store additional information about the identifiers `sysID` and `polID` from, respectively, the `core.System` class and the `core.Policy` class, the policy switch and the order number. The attributes `extensions` and `functions` is a collection of `core.FunctionInSystem` classes."
   ]
  },
  {
   "cell_type": "markdown",
   "metadata": {},
   "source": [
    "#### Extensions\n",
    "Display the extensions modelled for a given system-policy (e.g. for policy 'ConstDef_be' in system 'BE_2022' for Belgium 'BE') using the attribute `extensions`:"
   ]
  },
  {
   "cell_type": "code",
   "execution_count": 22,
   "metadata": {},
   "outputs": [
    {
     "data": {
      "text/plain": [
       "0: BELMOD - Endogenous\n",
       "1: BELMOD - Exogenous "
      ]
     },
     "execution_count": 22,
     "metadata": {},
     "output_type": "execute_result"
    }
   ],
   "source": [
    "mod[\"BE\"]['BE_2022'].policies[2].extensions"
   ]
  },
  {
   "cell_type": "markdown",
   "metadata": {},
   "source": [
    "The attribute returns a collection of `base.ExtensionSwitch` objects that can be indexed to get the element-specific information:"
   ]
  },
  {
   "cell_type": "code",
   "execution_count": 23,
   "metadata": {},
   "outputs": [
    {
     "data": {
      "text/plain": [
       "------------------------------\n",
       "ExtensionSwitch\n",
       "------------------------------\n",
       "\t baseOff: 'true'\n",
       "\t extensionID: 'af3a504d-4552-47be-b612-a3ff814509b1'\n",
       "\t polID: '4e2539bd-490c-48ce-a4d8-fdd8f4f5fb1e'"
      ]
     },
     "execution_count": 23,
     "metadata": {},
     "output_type": "execute_result"
    }
   ],
   "source": [
    "mod[\"BE\"]['BE_2022'].policies[2].extensions[0]"
   ]
  },
  {
   "cell_type": "markdown",
   "metadata": {},
   "source": [
    "#### Functions\n",
    "Compared to the country class, the attribute `functions` in the system class, containing `core.FunctionInSystem` objects, additionally shows which functions are used in the simulations of a given system-policy (e.g. policy 'tinmu_be' in system 'BE_2022' for Belgium):"
   ]
  },
  {
   "cell_type": "code",
   "execution_count": 24,
   "metadata": {},
   "outputs": [
    {
     "data": {
      "text/plain": [
       "0: DefConst     | on (with switch set for Belmod_endo, Belmod_exo)       |     \n",
       "1: BenCalc      | on (with switch set for Belmod_endo, Belmod_exo)       |    Local taxes, average per region \n",
       "2: ArithOp      | on                                                     |    Total PIT (Cumulative) "
      ]
     },
     "execution_count": 24,
     "metadata": {},
     "output_type": "execute_result"
    }
   ],
   "source": [
    "mod[\"BE\"][\"BE_2022\"].policies[30].functions"
   ]
  },
  {
   "cell_type": "markdown",
   "metadata": {},
   "source": [
    "Get a specific policy-function object indexing the `functions` attribute (e.g. function 'ArithOp' from policy 'tinmu_be' in system 'BE_2022'):"
   ]
  },
  {
   "cell_type": "code",
   "execution_count": 25,
   "metadata": {},
   "outputs": [
    {
     "data": {
      "text/plain": [
       "------------------------------\n",
       "FunctionInSystem\n",
       "------------------------------\n",
       "\t ID: '413c98e1-0fb9-4ff6-8adf-90438cf051b065bf7c6b-8178-4a20-a31d-71059ea5fce7'\n",
       "\t comment: 'Total PIT (Cumulative)'\n",
       "\t extensions: 0 elements\n",
       "\t funID: '65bf7c6b-8178-4a20-a31d-71059ea5fce7'\n",
       "\t name: 'ArithOp'\n",
       "\t order: '3'\n",
       "\t parameters: Formula, Output_Add_Var, TAX_UNIT\n",
       "\t polID: '7464c9b2-1b1f-416b-acc7-1bd15c72bf56'\n",
       "\t private: 'no'\n",
       "\t spineOrder: '31.3'\n",
       "\t switch: 'on'\n",
       "\t sysID: '413c98e1-0fb9-4ff6-8adf-90438cf051b0'"
      ]
     },
     "execution_count": 25,
     "metadata": {},
     "output_type": "execute_result"
    }
   ],
   "source": [
    "mod[\"BE\"][\"BE_2022\"].policies[30].functions[2]"
   ]
  },
  {
   "cell_type": "markdown",
   "metadata": {},
   "source": [
    "The returned object is a `core.FunctionInSystem` class with some default attributes, such as the name, identifier, extensions, and comment, a series of attributes for the reference identifiers (`funID` from the `core.Function` class, `polID` from the `core.Policy` class, and `sysID` from the `core.System` class), the policy-function switch, and the order number. The attribute `parameters` stores additional modelling information of the system-specific parameters."
   ]
  },
  {
   "cell_type": "markdown",
   "metadata": {},
   "source": [
    "#### Parameters\n",
    "The `core.ParameterInSystem` class, which is stored in the `parameters` attribute, provides modelling information on a specific system-policy-function-parameter element.\n",
    "\n",
    "Display all the policy-function-specific parameters for a given system (e.g. system 'BE_2022' for the Belgium personal income tax policy 'tinmu_be' in function 'ArithOp') using the attribute `parameters`:"
   ]
  },
  {
   "cell_type": "code",
   "execution_count": 26,
   "metadata": {},
   "outputs": [
    {
     "data": {
      "text/plain": [
       "0: Formula            | tinmu_s               |    + local taxes \n",
       "1: Output_Add_Var     | tin_s                 |    = total PIT \n",
       "2: TAX_UNIT           | tu_individual_be      |     "
      ]
     },
     "execution_count": 26,
     "metadata": {},
     "output_type": "execute_result"
    }
   ],
   "source": [
    "mod[\"BE\"][\"BE_2022\"].policies[30].functions[2].parameters"
   ]
  },
  {
   "cell_type": "markdown",
   "metadata": {},
   "source": [
    "Display a specific parameter object by indexing the `parameters` attribute (e.g. the parameter 'Formula' in the function 'ArithOp' from policy 'tinmu_be' in system 'BE_2022'):"
   ]
  },
  {
   "cell_type": "code",
   "execution_count": 27,
   "metadata": {},
   "outputs": [
    {
     "data": {
      "text/plain": [
       "------------------------------\n",
       "ParameterInSystem\n",
       "------------------------------\n",
       "\t ID: '413c98e1-0fb9-4ff6-8adf-90438cf051b0c5d59ade-a653-4fe4-82ea-101324142f95'\n",
       "\t comment: '+ local taxes'\n",
       "\t extensions: 0 elements\n",
       "\t funID: '65bf7c6b-8178-4a20-a31d-71059ea5fce7'\n",
       "\t group: ''\n",
       "\t name: 'Formula'\n",
       "\t order: '1'\n",
       "\t parID: 'c5d59ade-a653-4fe4-82ea-101324142f95'\n",
       "\t spineOrder: '31.3.1'\n",
       "\t sysID: '413c98e1-0fb9-4ff6-8adf-90438cf051b0'\n",
       "\t value: 'tinmu_s'"
      ]
     },
     "execution_count": 27,
     "metadata": {},
     "output_type": "execute_result"
    }
   ],
   "source": [
    "mod[\"BE\"][\"BE_2022\"].policies[30].functions[2].parameters[0] "
   ]
  },
  {
   "cell_type": "markdown",
   "metadata": {},
   "source": [
    "The `core.ParameterInSystem` object contains, additionally to the country object parameter, the order number, the related identifiers from the `core.System` and the `core.Parameter` objects, respectively `sysID` and `parID`, and the parameter `value`."
   ]
  },
  {
   "cell_type": "markdown",
   "metadata": {},
   "source": [
    "## Find objects\n",
    "The method `find` allows searching for a string pattern in a class attribute of the Euromod Connector. It requires two input parameters: the name of the class attribute (the class name can also be specified using the dot notation), and a string pattern."
   ]
  },
  {
   "cell_type": "markdown",
   "metadata": {},
   "source": [
    "Find all the policies containing string 'UPRATING' in the attribute `comment` in country Simpleland 'SL', setting parameter `case_insentive` to `False` (Note that the default is `True`):"
   ]
  },
  {
   "cell_type": "code",
   "execution_count": 28,
   "metadata": {},
   "outputs": [
    {
     "data": {
      "text/plain": [
       "0: Uprate_sl    |    DEF: UPRATING FACTORS "
      ]
     },
     "execution_count": 28,
     "metadata": {},
     "output_type": "execute_result"
    }
   ],
   "source": [
    "mod['SL'].policies.find('comment','UPRATING',case_insentive=False)"
   ]
  },
  {
   "cell_type": "markdown",
   "metadata": {},
   "source": [
    "Find all the functions of a `core.Policy` class of a system, containing string 'on' in the `switch` attribute (e.g. policy 'Uprate_sl' in system 'SL_1996' for country Simpleland 'SL'):"
   ]
  },
  {
   "cell_type": "code",
   "execution_count": 29,
   "metadata": {},
   "outputs": [
    {
     "data": {
      "text/plain": [
       "0: Uprate     | on  "
      ]
     },
     "execution_count": 29,
     "metadata": {},
     "output_type": "execute_result"
    }
   ],
   "source": [
    "mod['SL']['SL_1996'].policies[0].functions.find('switch','on')"
   ]
  },
  {
   "cell_type": "markdown",
   "metadata": {},
   "source": [
    "Getting all the policy objects containing 'tax' in the `name` attribute for Poland:"
   ]
  },
  {
   "cell_type": "code",
   "execution_count": 30,
   "metadata": {
    "editable": true,
    "slideshow": {
     "slide_type": ""
    },
    "tags": [
     "hide-output"
    ]
   },
   "outputs": [
    {
     "data": {
      "text/plain": [
       "0: tax_hl_fr_pl       |    TAX:Farmer health contribution \n",
       "1: tax_kt_pl          |    TAX:Lump-sum Capital Income Tax \n",
       "2: tax_hl_mx_ee_pl    |    TAX:Maximum Health Insurance - employees \n",
       "3: tax_hl_mx_se_pl    |    TAX:Maximum Health Insurance - self-employed \n",
       "4: tax_hl_mx_pl       |    TAX:Maximum Health Insurance \n",
       "5: tax_it_tb_pl       |    TAX:Income Tax Base \n",
       "6: tax_it_it_pl       |    TAX:Income Tax: Individual Taxation \n",
       "7: tax_it_lin_pl      |    TAX:Income Tax: Individual Taxation: linear tax \n",
       "8: tax_it_jt_pl       |    TAX:Income Tax: Joint Taxation \n",
       "9: tax_it_pl          |    TAX:Income Tax: optimisation \n",
       "10: tax_hl_pl         |    TAX:Health Insurance \n",
       "11: tax_ag_pl         |    TAX:Agricultural tax "
      ]
     },
     "execution_count": 30,
     "metadata": {},
     "output_type": "execute_result"
    }
   ],
   "source": [
    "mod['PL'].policies.find('name','tax')"
   ]
  },
  {
   "cell_type": "markdown",
   "metadata": {},
   "source": [
    "Getting the systems objects containing '2022' in the `name` attribute for Poland:"
   ]
  },
  {
   "cell_type": "code",
   "execution_count": 31,
   "metadata": {},
   "outputs": [
    {
     "data": {
      "text/plain": [
       "0: PL_2022      \n",
       "1: PL_2022_const"
      ]
     },
     "execution_count": 31,
     "metadata": {},
     "output_type": "execute_result"
    }
   ],
   "source": [
    "mod['PL'].systems.find('name','2022')"
   ]
  },
  {
   "cell_type": "markdown",
   "metadata": {},
   "source": [
    "Getting the policy-functions objects containing 'wage' in the `comment` attribute for Poland:"
   ]
  },
  {
   "cell_type": "code",
   "execution_count": 32,
   "metadata": {},
   "outputs": [
    {
     "data": {
      "text/plain": [
       "0: DefConst    |    constants for wage compensation scheme "
      ]
     },
     "execution_count": 32,
     "metadata": {},
     "output_type": "execute_result"
    }
   ],
   "source": [
    "mod['PL'].policies[0].functions.find('comment','wage')"
   ]
  },
  {
   "cell_type": "markdown",
   "metadata": {},
   "source": [
    "Getting the policy functions containing string \"BenCalc\" in the attribute `name` setting the optional input parameter `return_children`=`True` (Note that the default is `False`):"
   ]
  },
  {
   "cell_type": "code",
   "execution_count": 33,
   "metadata": {},
   "outputs": [
    {
     "data": {
      "text/plain": [
       "0: Uprate     | on      |     \n",
       "1: Uprate     | on      |    training and hypo data "
      ]
     },
     "execution_count": 33,
     "metadata": {},
     "output_type": "execute_result"
    }
   ],
   "source": [
    "mod[\"BE\"][\"BE_2023\"].policies.find(\"functions.name\",\"Uprate\",return_children =True)"
   ]
  },
  {
   "cell_type": "markdown",
   "metadata": {},
   "source": [
    "## Run simulation\n",
    "\n",
    "Use the `run` method to simulate the EUROMOD tax-benefit systems by passing two required input arguments, a `pandas.DataFrame` dataset and a name of the dataset. For a complete list of parameters please refere to the [API Reference User Guide][].\n",
    "\n",
    " ```{note}\n",
    "The uprating factors are applied based on the dataset name.\n",
    "```\n",
    "\n",
    "The example below shows how to run a simulation with default optional input parameters for Poland 'PL', tax-benefit system 'PL_2022', using the best match dataset as input data."
   ]
  },
  {
   "cell_type": "markdown",
   "metadata": {},
   "source": [
    "Geting the name of the best-match dataset for system 'PL_2022': "
   ]
  },
  {
   "cell_type": "code",
   "execution_count": 34,
   "metadata": {
    "editable": true,
    "slideshow": {
     "slide_type": ""
    },
    "tags": []
   },
   "outputs": [
    {
     "data": {
      "text/plain": [
       "'PL_2020_b2'"
      ]
     },
     "execution_count": 34,
     "metadata": {},
     "output_type": "execute_result"
    }
   ],
   "source": [
    "dataset_id = mod['PL']['PL_2022'].bestmatch_datasets[0].name\n",
    "dataset_id"
   ]
  },
  {
   "cell_type": "markdown",
   "metadata": {},
   "source": [
    "Load the data as a `pandas.DataFrame` object:"
   ]
  },
  {
   "cell_type": "code",
   "execution_count": 35,
   "metadata": {},
   "outputs": [],
   "source": [
    "import pandas as pd\n",
    "import os\n",
    "dataset_path = os.path.join(\"C:\\EUROMOD_RELEASES_I6.0+\\Input\",dataset_id+\".txt\")\n",
    "data = pd.read_csv(dataset_path,sep=\"\\t\")"
   ]
  },
  {
   "cell_type": "markdown",
   "metadata": {},
   "source": [
    "Run the simulation providing two input parameters, a `pandas.DataFrame` dataset and a name of the dataset:"
   ]
  },
  {
   "cell_type": "code",
   "execution_count": 36,
   "metadata": {
    "editable": true,
    "slideshow": {
     "slide_type": ""
    },
    "tags": []
   },
   "outputs": [
    {
     "name": "stdout",
     "output_type": "stream",
     "text": [
      "Simulation for system PL_2022 with dataset PL_2020_b2 finished.\n"
     ]
    }
   ],
   "source": [
    "out=mod.countries['PL'].systems['PL_2022'].run(data,'PL_2020_b2')"
   ]
  },
  {
   "cell_type": "code",
   "execution_count": 37,
   "metadata": {
    "editable": true,
    "slideshow": {
     "slide_type": "skip"
    },
    "tags": [
     "remove-input"
    ]
   },
   "outputs": [],
   "source": [
    "# remove-input\n",
    "\n",
    "# DO NOT DELETE\n",
    "\n",
    "pd.set_option('display.max_rows', 11, 'display.max_columns',7)"
   ]
  },
  {
   "cell_type": "markdown",
   "metadata": {},
   "source": [
    "The simulation run returns a `core.Simulation` class that stores the results as `pandas.DataFrame` objects in the attribute `outputs`:"
   ]
  },
  {
   "cell_type": "code",
   "execution_count": 38,
   "metadata": {
    "editable": true,
    "slideshow": {
     "slide_type": ""
    },
    "tags": []
   },
   "outputs": [
    {
     "data": {
      "text/html": [
       "<div>\n",
       "<style scoped>\n",
       "    .dataframe tbody tr th:only-of-type {\n",
       "        vertical-align: middle;\n",
       "    }\n",
       "\n",
       "    .dataframe tbody tr th {\n",
       "        vertical-align: top;\n",
       "    }\n",
       "\n",
       "    .dataframe thead th {\n",
       "        text-align: right;\n",
       "    }\n",
       "</style>\n",
       "<table border=\"1\" class=\"dataframe\">\n",
       "  <thead>\n",
       "    <tr style=\"text-align: right;\">\n",
       "      <th></th>\n",
       "      <th>idhh</th>\n",
       "      <th>idperson</th>\n",
       "      <th>idmother</th>\n",
       "      <th>...</th>\n",
       "      <th>il_bhomx</th>\n",
       "      <th>il_bsamt</th>\n",
       "      <th>il_bsatm</th>\n",
       "    </tr>\n",
       "  </thead>\n",
       "  <tbody>\n",
       "    <tr>\n",
       "      <th>0</th>\n",
       "      <td>100.0</td>\n",
       "      <td>10001.0</td>\n",
       "      <td>0.0</td>\n",
       "      <td>...</td>\n",
       "      <td>123.436998</td>\n",
       "      <td>15333.066256</td>\n",
       "      <td>15333.066256</td>\n",
       "    </tr>\n",
       "    <tr>\n",
       "      <th>1</th>\n",
       "      <td>100.0</td>\n",
       "      <td>10002.0</td>\n",
       "      <td>0.0</td>\n",
       "      <td>...</td>\n",
       "      <td>0.000000</td>\n",
       "      <td>6602.816820</td>\n",
       "      <td>6602.816820</td>\n",
       "    </tr>\n",
       "    <tr>\n",
       "      <th>2</th>\n",
       "      <td>100.0</td>\n",
       "      <td>10003.0</td>\n",
       "      <td>10002.0</td>\n",
       "      <td>...</td>\n",
       "      <td>0.000000</td>\n",
       "      <td>0.000000</td>\n",
       "      <td>0.000000</td>\n",
       "    </tr>\n",
       "    <tr>\n",
       "      <th>3</th>\n",
       "      <td>100.0</td>\n",
       "      <td>10004.0</td>\n",
       "      <td>10002.0</td>\n",
       "      <td>...</td>\n",
       "      <td>0.000000</td>\n",
       "      <td>0.000000</td>\n",
       "      <td>0.000000</td>\n",
       "    </tr>\n",
       "    <tr>\n",
       "      <th>4</th>\n",
       "      <td>200.0</td>\n",
       "      <td>20001.0</td>\n",
       "      <td>0.0</td>\n",
       "      <td>...</td>\n",
       "      <td>678.998548</td>\n",
       "      <td>1551.658266</td>\n",
       "      <td>1551.658266</td>\n",
       "    </tr>\n",
       "    <tr>\n",
       "      <th>...</th>\n",
       "      <td>...</td>\n",
       "      <td>...</td>\n",
       "      <td>...</td>\n",
       "      <td>...</td>\n",
       "      <td>...</td>\n",
       "      <td>...</td>\n",
       "      <td>...</td>\n",
       "    </tr>\n",
       "    <tr>\n",
       "      <th>38637</th>\n",
       "      <td>2047100.0</td>\n",
       "      <td>204710003.0</td>\n",
       "      <td>204710002.0</td>\n",
       "      <td>...</td>\n",
       "      <td>0.000000</td>\n",
       "      <td>0.000000</td>\n",
       "      <td>0.000000</td>\n",
       "    </tr>\n",
       "    <tr>\n",
       "      <th>38638</th>\n",
       "      <td>2047100.0</td>\n",
       "      <td>204710004.0</td>\n",
       "      <td>204710002.0</td>\n",
       "      <td>...</td>\n",
       "      <td>0.000000</td>\n",
       "      <td>0.000000</td>\n",
       "      <td>0.000000</td>\n",
       "    </tr>\n",
       "    <tr>\n",
       "      <th>38639</th>\n",
       "      <td>2047200.0</td>\n",
       "      <td>204720001.0</td>\n",
       "      <td>0.0</td>\n",
       "      <td>...</td>\n",
       "      <td>1160.473138</td>\n",
       "      <td>3394.582426</td>\n",
       "      <td>3394.582426</td>\n",
       "    </tr>\n",
       "    <tr>\n",
       "      <th>38640</th>\n",
       "      <td>2047300.0</td>\n",
       "      <td>204730001.0</td>\n",
       "      <td>0.0</td>\n",
       "      <td>...</td>\n",
       "      <td>395.047916</td>\n",
       "      <td>1476.410557</td>\n",
       "      <td>1476.410557</td>\n",
       "    </tr>\n",
       "    <tr>\n",
       "      <th>38641</th>\n",
       "      <td>2047500.0</td>\n",
       "      <td>204750001.0</td>\n",
       "      <td>0.0</td>\n",
       "      <td>...</td>\n",
       "      <td>716.030976</td>\n",
       "      <td>2816.888295</td>\n",
       "      <td>2816.888295</td>\n",
       "    </tr>\n",
       "  </tbody>\n",
       "</table>\n",
       "<p>38642 rows × 453 columns</p>\n",
       "</div>"
      ],
      "text/plain": [
       "            idhh     idperson     idmother  ...     il_bhomx      il_bsamt  \\\n",
       "0          100.0      10001.0          0.0  ...   123.436998  15333.066256   \n",
       "1          100.0      10002.0          0.0  ...     0.000000   6602.816820   \n",
       "2          100.0      10003.0      10002.0  ...     0.000000      0.000000   \n",
       "3          100.0      10004.0      10002.0  ...     0.000000      0.000000   \n",
       "4          200.0      20001.0          0.0  ...   678.998548   1551.658266   \n",
       "...          ...          ...          ...  ...          ...           ...   \n",
       "38637  2047100.0  204710003.0  204710002.0  ...     0.000000      0.000000   \n",
       "38638  2047100.0  204710004.0  204710002.0  ...     0.000000      0.000000   \n",
       "38639  2047200.0  204720001.0          0.0  ...  1160.473138   3394.582426   \n",
       "38640  2047300.0  204730001.0          0.0  ...   395.047916   1476.410557   \n",
       "38641  2047500.0  204750001.0          0.0  ...   716.030976   2816.888295   \n",
       "\n",
       "           il_bsatm  \n",
       "0      15333.066256  \n",
       "1       6602.816820  \n",
       "2          0.000000  \n",
       "3          0.000000  \n",
       "4       1551.658266  \n",
       "...             ...  \n",
       "38637      0.000000  \n",
       "38638      0.000000  \n",
       "38639   3394.582426  \n",
       "38640   1476.410557  \n",
       "38641   2816.888295  \n",
       "\n",
       "[38642 rows x 453 columns]"
      ]
     },
     "execution_count": 38,
     "metadata": {},
     "output_type": "execute_result"
    }
   ],
   "source": [
    "out.outputs[0]"
   ]
  }
 ],
 "metadata": {
  "celltoolbar": "Tags",
  "kernelspec": {
   "display_name": "Python 3 (ipykernel)",
   "language": "python",
   "name": "python3"
  },
  "language_info": {
   "codemirror_mode": {
    "name": "ipython",
    "version": 3
   },
   "file_extension": ".py",
   "mimetype": "text/x-python",
   "name": "python",
   "nbconvert_exporter": "python",
   "pygments_lexer": "ipython3",
   "version": "3.11.5"
  }
 },
 "nbformat": 4,
 "nbformat_minor": 4
}