{
 "cells": [
  {
   "cell_type": "markdown",
   "metadata": {},
   "source": [
    "# Simulation examples\n",
    "\n",
    "## Load model and data\n",
    "Import the EUROMOD connector Model and the dataset 'PL_2020_b2.txt' for Poland."
   ]
  },
  {
   "cell_type": "code",
   "execution_count": 1,
   "metadata": {
    "editable": true,
    "slideshow": {
     "slide_type": ""
    },
    "tags": []
   },
   "outputs": [],
   "source": [
    "from euromod import Model\n",
    "mod=Model(r\"C:\\EUROMOD_RELEASES_I6.0+\")\n",
    "import pandas as pd\n",
    "data=pd.read_csv(r\"C:\\EUROMOD_RELEASES_I6.0+\\Input\\PL_2020_b2.txt\",sep=\"\\t\")"
   ]
  },
  {
   "cell_type": "code",
   "execution_count": 2,
   "metadata": {
    "editable": true,
    "slideshow": {
     "slide_type": ""
    },
    "tags": [
     "remove-input"
    ]
   },
   "outputs": [],
   "source": [
    "# remove-input\n",
    "\n",
    "# DO NOT DELETE\n",
    "\n",
    "pd.set_option('display.max_rows', 11, 'display.max_columns',7)"
   ]
  },
  {
   "cell_type": "markdown",
   "metadata": {},
   "source": [
    "## **1. Run two systems with default parameters**\n",
    "Run the simulation for the Poland systems 'PL_2021' and 'PL_2022' using the dataset 'PL_2020_b2'. "
   ]
  },
  {
   "cell_type": "markdown",
   "metadata": {},
   "source": [
    "Checking the best-match datasets for systems 'PL_2021' and 'PL_2022'."
   ]
  },
  {
   "cell_type": "code",
   "execution_count": 3,
   "metadata": {},
   "outputs": [
    {
     "name": "stdout",
     "output_type": "stream",
     "text": [
      "System    Dataset\n"
     ]
    },
    {
     "name": "stdout",
     "output_type": "stream",
     "text": [
      "PL_2021   PL_2020_b2\n",
      "PL_2022   PL_2020_b2\n"
     ]
    }
   ],
   "source": [
    "print('System    Dataset')\n",
    "for sys in {'PL_2021', 'PL_2022'}:\n",
    "    dataset_name = mod['PL']['PL_2022'].bestmatch_datasets[-1].name\n",
    "    print(sys, ' ', dataset_name)"
   ]
  },
  {
   "cell_type": "markdown",
   "metadata": {},
   "source": [
    "Running multiple simulations in a loop:"
   ]
  },
  {
   "cell_type": "code",
   "execution_count": 4,
   "metadata": {},
   "outputs": [
    {
     "name": "stdout",
     "output_type": "stream",
     "text": [
      "Simulation for system PL_2021 with dataset PL_2020_b2 finished.\n"
     ]
    },
    {
     "name": "stdout",
     "output_type": "stream",
     "text": [
      "Simulation for system PL_2022 with dataset PL_2020_b2 finished.\n"
     ]
    }
   ],
   "source": [
    "out=[]\n",
    "for sysnam in ['PL_2021','PL_2022']:\n",
    "    out.append(mod['PL'][sysnam].run(data,\"PL_2020_b2\"))"
   ]
  },
  {
   "cell_type": "markdown",
   "metadata": {},
   "source": [
    "Access  the simulation results indexing the ``Simulation.outputs`` object either with the index position or with the names of the datasets provided in the attribute `Simulation.outputs`:"
   ]
  },
  {
   "cell_type": "code",
   "execution_count": 5,
   "metadata": {},
   "outputs": [
    {
     "data": {
      "text/plain": [
       "0:             idhh     idperson     idmother  ...     il_bhomx      il_bsamt  \\\n",
       "0          100.0      10001.0          0.0  ...   123.436998  15333.066256   \n",
       "1          100.0      10002.0          0.0  ...     0.000000   6602.816820   \n",
       "2          100.0      10003.0      10002.0  ...     0.000000      0.000000   \n",
       "3          100.0      10004.0      10002.0  ...     0.000000      0.000000   \n",
       "4          200.0      20001.0          0.0  ...   678.998548   1551.658266   \n",
       "...          ...          ...          ...  ...          ...           ...   \n",
       "38637  2047100.0  204710003.0  204710002.0  ...     0.000000      0.000000   \n",
       "38638  2047100.0  204710004.0  204710002.0  ...     0.000000      0.000000   \n",
       "38639  2047200.0  204720001.0          0.0  ...  1160.473138   3394.582426   \n",
       "38640  2047300.0  204730001.0          0.0  ...   395.047916   1476.410557   \n",
       "38641  2047500.0  204750001.0          0.0  ...   716.030976   2816.888295   \n",
       "\n",
       "           il_bsatm  \n",
       "0      15333.066256  \n",
       "1       6602.816820  \n",
       "2          0.000000  \n",
       "3          0.000000  \n",
       "4       1551.658266  \n",
       "...             ...  \n",
       "38637      0.000000  \n",
       "38638      0.000000  \n",
       "38639   3394.582426  \n",
       "38640   1476.410557  \n",
       "38641   2816.888295  \n",
       "\n",
       "[38642 rows x 453 columns]"
      ]
     },
     "execution_count": 5,
     "metadata": {},
     "output_type": "execute_result"
    }
   ],
   "source": [
    "out[1].outputs"
   ]
  },
  {
   "cell_type": "code",
   "execution_count": 6,
   "metadata": {},
   "outputs": [
    {
     "data": {
      "text/plain": [
       "dict_keys(['pl_2022_std.txt'])"
      ]
     },
     "execution_count": 6,
     "metadata": {},
     "output_type": "execute_result"
    }
   ],
   "source": [
    "out[1].outputs.keys()"
   ]
  },
  {
   "cell_type": "code",
   "execution_count": 7,
   "metadata": {},
   "outputs": [
    {
     "data": {
      "text/html": [
       "<div>\n",
       "<style scoped>\n",
       "    .dataframe tbody tr th:only-of-type {\n",
       "        vertical-align: middle;\n",
       "    }\n",
       "\n",
       "    .dataframe tbody tr th {\n",
       "        vertical-align: top;\n",
       "    }\n",
       "\n",
       "    .dataframe thead th {\n",
       "        text-align: right;\n",
       "    }\n",
       "</style>\n",
       "<table border=\"1\" class=\"dataframe\">\n",
       "  <thead>\n",
       "    <tr style=\"text-align: right;\">\n",
       "      <th></th>\n",
       "      <th>idhh</th>\n",
       "      <th>idperson</th>\n",
       "      <th>idmother</th>\n",
       "      <th>...</th>\n",
       "      <th>il_bhomx</th>\n",
       "      <th>il_bsamt</th>\n",
       "      <th>il_bsatm</th>\n",
       "    </tr>\n",
       "  </thead>\n",
       "  <tbody>\n",
       "    <tr>\n",
       "      <th>0</th>\n",
       "      <td>100.0</td>\n",
       "      <td>10001.0</td>\n",
       "      <td>0.0</td>\n",
       "      <td>...</td>\n",
       "      <td>123.436998</td>\n",
       "      <td>15333.066256</td>\n",
       "      <td>15333.066256</td>\n",
       "    </tr>\n",
       "    <tr>\n",
       "      <th>1</th>\n",
       "      <td>100.0</td>\n",
       "      <td>10002.0</td>\n",
       "      <td>0.0</td>\n",
       "      <td>...</td>\n",
       "      <td>0.000000</td>\n",
       "      <td>6602.816820</td>\n",
       "      <td>6602.816820</td>\n",
       "    </tr>\n",
       "    <tr>\n",
       "      <th>2</th>\n",
       "      <td>100.0</td>\n",
       "      <td>10003.0</td>\n",
       "      <td>10002.0</td>\n",
       "      <td>...</td>\n",
       "      <td>0.000000</td>\n",
       "      <td>0.000000</td>\n",
       "      <td>0.000000</td>\n",
       "    </tr>\n",
       "    <tr>\n",
       "      <th>3</th>\n",
       "      <td>100.0</td>\n",
       "      <td>10004.0</td>\n",
       "      <td>10002.0</td>\n",
       "      <td>...</td>\n",
       "      <td>0.000000</td>\n",
       "      <td>0.000000</td>\n",
       "      <td>0.000000</td>\n",
       "    </tr>\n",
       "    <tr>\n",
       "      <th>4</th>\n",
       "      <td>200.0</td>\n",
       "      <td>20001.0</td>\n",
       "      <td>0.0</td>\n",
       "      <td>...</td>\n",
       "      <td>678.998548</td>\n",
       "      <td>1551.658266</td>\n",
       "      <td>1551.658266</td>\n",
       "    </tr>\n",
       "    <tr>\n",
       "      <th>...</th>\n",
       "      <td>...</td>\n",
       "      <td>...</td>\n",
       "      <td>...</td>\n",
       "      <td>...</td>\n",
       "      <td>...</td>\n",
       "      <td>...</td>\n",
       "      <td>...</td>\n",
       "    </tr>\n",
       "    <tr>\n",
       "      <th>38637</th>\n",
       "      <td>2047100.0</td>\n",
       "      <td>204710003.0</td>\n",
       "      <td>204710002.0</td>\n",
       "      <td>...</td>\n",
       "      <td>0.000000</td>\n",
       "      <td>0.000000</td>\n",
       "      <td>0.000000</td>\n",
       "    </tr>\n",
       "    <tr>\n",
       "      <th>38638</th>\n",
       "      <td>2047100.0</td>\n",
       "      <td>204710004.0</td>\n",
       "      <td>204710002.0</td>\n",
       "      <td>...</td>\n",
       "      <td>0.000000</td>\n",
       "      <td>0.000000</td>\n",
       "      <td>0.000000</td>\n",
       "    </tr>\n",
       "    <tr>\n",
       "      <th>38639</th>\n",
       "      <td>2047200.0</td>\n",
       "      <td>204720001.0</td>\n",
       "      <td>0.0</td>\n",
       "      <td>...</td>\n",
       "      <td>1160.473138</td>\n",
       "      <td>3394.582426</td>\n",
       "      <td>3394.582426</td>\n",
       "    </tr>\n",
       "    <tr>\n",
       "      <th>38640</th>\n",
       "      <td>2047300.0</td>\n",
       "      <td>204730001.0</td>\n",
       "      <td>0.0</td>\n",
       "      <td>...</td>\n",
       "      <td>395.047916</td>\n",
       "      <td>1476.410557</td>\n",
       "      <td>1476.410557</td>\n",
       "    </tr>\n",
       "    <tr>\n",
       "      <th>38641</th>\n",
       "      <td>2047500.0</td>\n",
       "      <td>204750001.0</td>\n",
       "      <td>0.0</td>\n",
       "      <td>...</td>\n",
       "      <td>716.030976</td>\n",
       "      <td>2816.888295</td>\n",
       "      <td>2816.888295</td>\n",
       "    </tr>\n",
       "  </tbody>\n",
       "</table>\n",
       "<p>38642 rows × 453 columns</p>\n",
       "</div>"
      ],
      "text/plain": [
       "            idhh     idperson     idmother  ...     il_bhomx      il_bsamt  \\\n",
       "0          100.0      10001.0          0.0  ...   123.436998  15333.066256   \n",
       "1          100.0      10002.0          0.0  ...     0.000000   6602.816820   \n",
       "2          100.0      10003.0      10002.0  ...     0.000000      0.000000   \n",
       "3          100.0      10004.0      10002.0  ...     0.000000      0.000000   \n",
       "4          200.0      20001.0          0.0  ...   678.998548   1551.658266   \n",
       "...          ...          ...          ...  ...          ...           ...   \n",
       "38637  2047100.0  204710003.0  204710002.0  ...     0.000000      0.000000   \n",
       "38638  2047100.0  204710004.0  204710002.0  ...     0.000000      0.000000   \n",
       "38639  2047200.0  204720001.0          0.0  ...  1160.473138   3394.582426   \n",
       "38640  2047300.0  204730001.0          0.0  ...   395.047916   1476.410557   \n",
       "38641  2047500.0  204750001.0          0.0  ...   716.030976   2816.888295   \n",
       "\n",
       "           il_bsatm  \n",
       "0      15333.066256  \n",
       "1       6602.816820  \n",
       "2          0.000000  \n",
       "3          0.000000  \n",
       "4       1551.658266  \n",
       "...             ...  \n",
       "38637      0.000000  \n",
       "38638      0.000000  \n",
       "38639   3394.582426  \n",
       "38640   1476.410557  \n",
       "38641   2816.888295  \n",
       "\n",
       "[38642 rows x 453 columns]"
      ]
     },
     "execution_count": 7,
     "metadata": {},
     "output_type": "execute_result"
    }
   ],
   "source": [
    "out[1].outputs['pl_2022_std.txt']"
   ]
  },
  {
   "cell_type": "markdown",
   "metadata": {},
   "source": [
    "## **2. Run with changing constant**\n",
    "Run the simulation for the Poland system PL_2022 setting to 10000 the value of the constant '$f_h_cpi' with group number 2022."
   ]
  },
  {
   "cell_type": "code",
   "execution_count": 8,
   "metadata": {},
   "outputs": [
    {
     "name": "stdout",
     "output_type": "stream",
     "text": [
      "Simulation for system PL_2022 with dataset PL_2020_b2 finished.\n"
     ]
    }
   ],
   "source": [
    "out=mod['PL']['PL_2022'].run(data,\"PL_2020_b2\",constantsToOverwrite={(\"$f_h_cpi\",\"2022\"):'10000'})"
   ]
  },
  {
   "cell_type": "markdown",
   "metadata": {},
   "source": [
    "The optional parameter ```constantsToOverwrite``` specifies which constants to overwrite in the policy spline. `constantsToOverwrite` must be  a ```dict```, where the keys are ```tuples``` of two ```str``` objects: the first string is the name of the constant and the second string is its group number (**Note:** Pass an empty string if the group number is `None`); the values are ```str``` with the new values of the constants. The default is None.\n",
    "\n",
    "Attribute `Simulation.constantsToOverwrite` shows the modified constants used in the simulation:"
   ]
  },
  {
   "cell_type": "code",
   "execution_count": 9,
   "metadata": {},
   "outputs": [
    {
     "data": {
      "text/plain": [
       "{('$f_h_cpi', '2022'): '10000'}"
      ]
     },
     "execution_count": 9,
     "metadata": {},
     "output_type": "execute_result"
    }
   ],
   "source": [
    "out.constantsToOverwrite"
   ]
  },
  {
   "cell_type": "markdown",
   "metadata": {},
   "source": [
    "## **3. Run with add-ons**\n",
    "Run the simulation for the Poland system PL_2022 including the Labour Market Adjustment add-on 'LMA'."
   ]
  },
  {
   "cell_type": "code",
   "execution_count": 10,
   "metadata": {},
   "outputs": [
    {
     "name": "stdout",
     "output_type": "stream",
     "text": [
      "Simulation for system PL_2022 with dataset PL_2020_b2 finished.\n"
     ]
    },
    {
     "data": {
      "text/plain": [
       "------------------------------\n",
       "Simulation\n",
       "------------------------------\n",
       "\t constantsToOverwrite: {}\n",
       "\t errors: []\n",
       "\t output_filenames: ['pl_2022_lma.txt']\n",
       "\t outputs: Pandas DataFrame of 453 variables and 38642 observations."
      ]
     },
     "execution_count": 10,
     "metadata": {},
     "output_type": "execute_result"
    }
   ],
   "source": [
    "out =mod['PL']['PL_2022'].run(data,\"PL_2020_b2\",addons=[(\"LMA\",\"LMA_PL\")])\n",
    "out"
   ]
  },
  {
   "cell_type": "markdown",
   "metadata": {},
   "source": [
    "The optional parameter `addons` is a ```list``` of [EUROMOD](https://euromod-web.jrc.ec.europa.eu \"https://euromod-web.jrc.ec.europa.eu\")  Addons to be integrated in the spine . Each item of the ``list`` is   a ```tuple``` with two ```str``` objects. The first  ```str``` is the name of the Addon and the second `str` is the name of the system in the Addon to be integrated (typically, it is the name of the Addon ```_``` two-letter country code, e.g. LMA_AT).  Available Addons are: LMA, MTR, NRR, TCA. The default is []. "
   ]
  },
  {
   "cell_type": "markdown",
   "metadata": {},
   "source": [
    "## **4. Run with extensions**\n",
    "Run the simulation for the Poland system PL_2022 switching on the Benefit Take-up Adjustment extension 'BTA'."
   ]
  },
  {
   "cell_type": "code",
   "execution_count": 11,
   "metadata": {},
   "outputs": [
    {
     "name": "stdout",
     "output_type": "stream",
     "text": [
      "Simulation for system PL_2022 with dataset PL_2020_b2 finished.\n"
     ]
    },
    {
     "data": {
      "text/plain": [
       "------------------------------\n",
       "Simulation\n",
       "------------------------------\n",
       "\t constantsToOverwrite: {}\n",
       "\t errors: []\n",
       "\t output_filenames: ['pl_2022_std.txt']\n",
       "\t outputs: Pandas DataFrame of 453 variables and 38642 observations."
      ]
     },
     "execution_count": 11,
     "metadata": {},
     "output_type": "execute_result"
    }
   ],
   "source": [
    "out =mod['PL']['PL_2022'].run(data,\"PL_2020_b2\",switches=[(\"BTA\",True)])\n",
    "out"
   ]
  },
  {
   "cell_type": "markdown",
   "metadata": {},
   "source": [
    "The optional parameter `switches` must define a `list` of the  [EUROMOD](https://euromod-web.jrc.ec.europa.eu \"https://euromod-web.jrc.ec.europa.eu\") extensions  to be switched on or off in the simulation. Each item in the ``list`` is   a ```tuple``` with two objects. The first object is a ```str``` short name of the Extension. The second object is a ```boolean```.  Available Extensions are: BTA, TCA, FYA, UAA, EPS, PBE, MWA, HHoT_un, WEB, HHoT_ext, HHoT_ncp. The default is []. "
   ]
  }
 ],
 "metadata": {
  "kernelspec": {
   "display_name": "Python 3 (ipykernel)",
   "language": "python",
   "name": "python3"
  },
  "language_info": {
   "codemirror_mode": {
    "name": "ipython",
    "version": 3
   },
   "file_extension": ".py",
   "mimetype": "text/x-python",
   "name": "python",
   "nbconvert_exporter": "python",
   "pygments_lexer": "ipython3",
   "version": "3.11.5"
  }
 },
 "nbformat": 4,
 "nbformat_minor": 4
}